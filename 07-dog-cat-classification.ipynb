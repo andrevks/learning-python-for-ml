{
 "cells": [
  {
   "cell_type": "markdown",
   "source": [
    "## Dataset Preparation"
   ],
   "metadata": {}
  },
  {
   "cell_type": "code",
   "execution_count": 6,
   "source": [
    "import numpy as np\r\n",
    "import matplotlib.pyplot as plt\r\n",
    "import os \r\n",
    "import cv2\r\n",
    "\r\n",
    "\r\n",
    "DATADIR = \"E:\\Download\\pythonCourse\\datasets\\PetImages\"\r\n",
    "CATEGORIES = ['Dog', 'Cat']\r\n",
    "\r\n"
   ],
   "outputs": [],
   "metadata": {}
  },
  {
   "cell_type": "code",
   "execution_count": 7,
   "source": [
    "\r\n",
    "#Reshape imgs\r\n",
    "IMG_SIZE = 50"
   ],
   "outputs": [],
   "metadata": {}
  },
  {
   "cell_type": "code",
   "execution_count": 8,
   "source": [
    "#Training dataset\r\n",
    "\r\n",
    "training_data = []\r\n",
    "\r\n",
    "def create_training_data():\r\n",
    "  for category in CATEGORIES:\r\n",
    "    path = os.path.join(DATADIR, category) # Path to cats or dogs dir\r\n",
    "    class_num = CATEGORIES.index(category)\r\n",
    "    for img in os.listdir(path=path):\r\n",
    "      #Create a full path with the img.\r\n",
    "      #Then Convert the img to gray scale. \r\n",
    "      # REASONS:\r\n",
    "      #RGB data is 3x the size of gray scale data.\r\n",
    "      #Color is not relevant in this specific task.\r\n",
    "\r\n",
    "      try:\r\n",
    "        img_array = cv2.imread(os.path.join(path,img), cv2.IMREAD_GRAYSCALE)\r\n",
    "        new_array = cv2.resize(img_array, (IMG_SIZE, IMG_SIZE))\r\n",
    "        training_data.append([new_array, class_num])\r\n",
    "      except Exception as e:\r\n",
    "        pass\r\n",
    "\r\n",
    "create_training_data()"
   ],
   "outputs": [],
   "metadata": {}
  },
  {
   "cell_type": "code",
   "execution_count": 9,
   "source": [
    "#In classification your training data should be properly\r\n",
    "#balanced.\r\n",
    "#In this case it should be 50-50 for cats and dogs \r\n",
    "#This means, just as many cats and just as many dogs\r\n",
    "print(len(training_data))"
   ],
   "outputs": [
    {
     "output_type": "stream",
     "name": "stdout",
     "text": [
      "22860\n"
     ]
    }
   ],
   "metadata": {}
  },
  {
   "cell_type": "code",
   "execution_count": 10,
   "source": [
    "#it's important to shuffle the data\r\n",
    "import random\r\n",
    "\r\n",
    "#Shuffling the data\r\n",
    "random.shuffle(training_data)"
   ],
   "outputs": [],
   "metadata": {}
  },
  {
   "cell_type": "code",
   "execution_count": 11,
   "source": [
    "for sample in training_data[:10]:\r\n",
    "  print(sample[1])\r\n"
   ],
   "outputs": [
    {
     "output_type": "stream",
     "name": "stdout",
     "text": [
      "0\n",
      "0\n",
      "1\n",
      "1\n",
      "1\n",
      "0\n",
      "1\n",
      "0\n",
      "0\n",
      "0\n"
     ]
    }
   ],
   "metadata": {}
  },
  {
   "cell_type": "code",
   "execution_count": 12,
   "source": [
    "#Generally capital x is your future set.\r\n",
    "#Lower case y is where your labels are.\r\n",
    "X = []\r\n",
    "y = []"
   ],
   "outputs": [],
   "metadata": {}
  },
  {
   "cell_type": "code",
   "execution_count": 13,
   "source": [
    "\r\n",
    "for features, label in training_data:\r\n",
    "  X.append(features)\r\n",
    "  y.append(label)\r\n",
    "\r\n",
    "#The features are converted to a list, but\r\n",
    "#you can't pass a list to a neural network\r\n",
    "X = np.array(X).reshape(-1, IMG_SIZE, IMG_SIZE, 1)"
   ],
   "outputs": [],
   "metadata": {}
  },
  {
   "cell_type": "code",
   "execution_count": 14,
   "source": [
    "#Chances are you will be just tweaking the model the next time\r\n",
    "#So, you don't wanna to be rebuilding your dataset everytime\r\n",
    "#That why you need to save your data afterwards\r\n",
    "\r\n",
    "import pickle\r\n",
    "\r\n",
    "#Saving x\r\n",
    "pickle_out = open('X.pickle','wb')\r\n",
    "pickle.dump(X, pickle_out)\r\n",
    "pickle_out.close()\r\n",
    "\r\n",
    "\r\n",
    "#Saving y\r\n",
    "pickle_out = open('y.pickle','wb')\r\n",
    "pickle.dump(y, pickle_out)\r\n",
    "pickle_out.close()"
   ],
   "outputs": [],
   "metadata": {}
  },
  {
   "cell_type": "code",
   "execution_count": 15,
   "source": [
    "#Later, if you want to read it back in:\r\n",
    "\r\n",
    "pickle_in = open('X.pickle','rb')\r\n",
    "X = pickle.load(pickle_in)"
   ],
   "outputs": [],
   "metadata": {}
  },
  {
   "cell_type": "code",
   "execution_count": 16,
   "source": [
    "X[1]"
   ],
   "outputs": [
    {
     "output_type": "execute_result",
     "data": {
      "text/plain": [
       "array([[[148],\n",
       "        [152],\n",
       "        [153],\n",
       "        ...,\n",
       "        [152],\n",
       "        [152],\n",
       "        [151]],\n",
       "\n",
       "       [[153],\n",
       "        [156],\n",
       "        [156],\n",
       "        ...,\n",
       "        [160],\n",
       "        [167],\n",
       "        [153]],\n",
       "\n",
       "       [[155],\n",
       "        [157],\n",
       "        [160],\n",
       "        ...,\n",
       "        [160],\n",
       "        [166],\n",
       "        [160]],\n",
       "\n",
       "       ...,\n",
       "\n",
       "       [[216],\n",
       "        [217],\n",
       "        [220],\n",
       "        ...,\n",
       "        [108],\n",
       "        [141],\n",
       "        [120]],\n",
       "\n",
       "       [[220],\n",
       "        [223],\n",
       "        [225],\n",
       "        ...,\n",
       "        [109],\n",
       "        [130],\n",
       "        [180]],\n",
       "\n",
       "       [[223],\n",
       "        [222],\n",
       "        [225],\n",
       "        ...,\n",
       "        [102],\n",
       "        [186],\n",
       "        [195]]], dtype=uint8)"
      ]
     },
     "metadata": {},
     "execution_count": 16
    }
   ],
   "metadata": {}
  },
  {
   "cell_type": "markdown",
   "source": [
    "## Convolutional Neural Networkd - Using Dataset\r\n",
    "\r\n",
    " - [Part3](https://www.youtube.com/watch?v=WvoLTXIjBYU&list=PLQVvvaa0QuDfhTox0AjmQ6tvTgMBZBEXN&index=4)"
   ],
   "metadata": {}
  },
  {
   "cell_type": "code",
   "execution_count": 26,
   "source": [
    "import tensorflow as tf \r\n",
    "from tensorflow.keras.datasets import cifar10\r\n",
    "from tensorflow.keras.preprocessing.image import ImageDataGenerator\r\n",
    "from tensorflow.keras.models import Sequential\r\n",
    "from tensorflow.keras.layers import Dense, Dropout, Activation, Flatten\r\n",
    "# from keras.layers.convolutional import Conv2D\r\n",
    "from tensorflow.keras.layers import Conv2D, MaxPooling2D\r\n",
    "import pickle\r\n",
    "import time\r\n",
    "\r\n",
    "NAME = 'Cats-vs-dog-cnn-62x2-{}'.format(int(time.time()))\r\n",
    "# gpu_options = tf.GPUOptions(per_process_gpu_memory_fraction=0.333)\r\n",
    "# sess = tf.Sessio\r\n",
    "\r\n",
    "X = pickle.load(open('X.pickle','rb'))\r\n",
    "y = pickle.load(open('y.pickle','rb'))\r\n",
    "y = np.array(y)\r\n",
    "#Consider normalizing the data\r\n",
    "#In imagery data, it varies from 0 to 255, so we divide it by 255\r\n",
    "\r\n",
    "X = X/255.0\r\n",
    "\r\n",
    "#Building the a Sequetial model \r\n",
    "\r\n",
    "model = Sequential()\r\n",
    "#We're skiping the first column\r\n",
    "model.add(Conv2D(64, (3,3), input_shape=X.shape[1:]) )\r\n",
    "model.add(Activation('relu'))\r\n",
    "model.add(MaxPooling2D(pool_size=(2,2)))\r\n",
    "\r\n",
    "model.add(Conv2D(64, (3,3)) )\r\n",
    "model.add(Activation('relu'))\r\n",
    "model.add(MaxPooling2D(pool_size=(2,2)))\r\n",
    "\r\n",
    "model.add(Flatten())\r\n",
    "model.add(Dense(64))\r\n",
    "model.add(Activation('relu'))\r\n",
    "\r\n",
    "model.add(Dense(1))\r\n",
    "model.add(Activation('sigmoid'))\r\n",
    "\r\n",
    "model.compile(\r\n",
    "  loss='binary_crossentropy',\r\n",
    "  optimizer='adam',\r\n",
    "  metrics=['accuracy']\r\n",
    "  )\r\n",
    "\r\n",
    "model.fit(X, y, batch_size=32, epochs=4, validation_split=0.1)"
   ],
   "outputs": [
    {
     "output_type": "stream",
     "name": "stdout",
     "text": [
      "Epoch 1/4\n",
      "643/643 [==============================] - 114s 176ms/step - loss: 0.6007 - accuracy: 0.6713 - val_loss: 0.5420 - val_accuracy: 0.7323\n",
      "Epoch 2/4\n",
      "643/643 [==============================] - 91s 142ms/step - loss: 0.5080 - accuracy: 0.7551 - val_loss: 0.4769 - val_accuracy: 0.7664\n",
      "Epoch 3/4\n",
      "643/643 [==============================] - 93s 145ms/step - loss: 0.4578 - accuracy: 0.7847 - val_loss: 0.4622 - val_accuracy: 0.7743\n",
      "Epoch 4/4\n",
      "643/643 [==============================] - 93s 145ms/step - loss: 0.4113 - accuracy: 0.8128 - val_loss: 0.4555 - val_accuracy: 0.7927\n"
     ]
    },
    {
     "output_type": "execute_result",
     "data": {
      "text/plain": [
       "<keras.callbacks.History at 0x28121926dc8>"
      ]
     },
     "metadata": {},
     "execution_count": 26
    }
   ],
   "metadata": {}
  },
  {
   "cell_type": "markdown",
   "source": [
    "## Analysing Models\r\n",
    "\r\n",
    "[Tensorboard](https://www.youtube.com/watch?v=BqgTU7_cBnk&list=PLQVvvaa0QuDfhTox0AjmQ6tvTgMBZBEXN&index=4)"
   ],
   "metadata": {}
  },
  {
   "cell_type": "code",
   "execution_count": 28,
   "source": [
    "import tensorflow as tf \r\n",
    "from tensorflow.keras.datasets import cifar10\r\n",
    "from tensorflow.keras.preprocessing.image import ImageDataGenerator\r\n",
    "from tensorflow.keras.models import Sequential\r\n",
    "from tensorflow.keras.layers import Dense, Dropout, Activation, Flatten\r\n",
    "# from keras.layers.convolutional import Conv2D\r\n",
    "from tensorflow.keras.layers import Conv2D, MaxPooling2D\r\n",
    "from tensorflow.keras.callbacks import TensorBoard\r\n",
    "import pickle\r\n",
    "import time\r\n",
    "\r\n",
    "NAME = 'Cats-vs-dog-cnn-62x2-{}'.format(int(time.time()))\r\n",
    "\r\n",
    "tensorboard = TensorBoard(log_dir=f'logs/{NAME}')\r\n",
    "\r\n",
    "# gpu_options = tf.GPUOptions(per_process_gpu_memory_fraction=0.333)\r\n",
    "# sess = tf.Sessio\r\n",
    "\r\n",
    "X = pickle.load(open('X.pickle','rb'))\r\n",
    "y = pickle.load(open('y.pickle','rb'))\r\n",
    "y = np.array(y)\r\n",
    "#Consider normalizing the data\r\n",
    "#In imagery data, it varies from 0 to 255, so we divide it by 255\r\n",
    "\r\n",
    "X = X/255.0\r\n",
    "\r\n",
    "#Building the a Sequetial model \r\n",
    "\r\n",
    "model = Sequential()\r\n",
    "#We're skiping the first column\r\n",
    "model.add(Conv2D(64, (3,3), input_shape=X.shape[1:]) )\r\n",
    "model.add(Activation('relu'))\r\n",
    "model.add(MaxPooling2D(pool_size=(2,2)))\r\n",
    "\r\n",
    "model.add(Conv2D(64, (3,3)) )\r\n",
    "model.add(Activation('relu'))\r\n",
    "model.add(MaxPooling2D(pool_size=(2,2)))\r\n",
    "\r\n",
    "model.add(Flatten())\r\n",
    "model.add(Dense(64))\r\n",
    "model.add(Activation('relu'))\r\n",
    "\r\n",
    "model.add(Dense(1))\r\n",
    "model.add(Activation('sigmoid'))\r\n",
    "\r\n",
    "model.compile(\r\n",
    "  loss='binary_crossentropy',\r\n",
    "  optimizer='adam',\r\n",
    "  metrics=['accuracy']\r\n",
    "  )\r\n",
    "\r\n",
    "model.fit(X, y, batch_size=32, epochs=10, \r\n",
    "validation_split=0.1, callbacks=[tensorboard])\r\n"
   ],
   "outputs": [
    {
     "output_type": "stream",
     "name": "stdout",
     "text": [
      "Epoch 1/10\n",
      "643/643 [==============================] - 143s 220ms/step - loss: 0.6212 - accuracy: 0.6481 - val_loss: 0.5327 - val_accuracy: 0.7323\n",
      "Epoch 2/10\n",
      "643/643 [==============================] - 95s 148ms/step - loss: 0.5149 - accuracy: 0.7464 - val_loss: 0.4873 - val_accuracy: 0.7520\n",
      "Epoch 3/10\n",
      "643/643 [==============================] - 95s 147ms/step - loss: 0.4648 - accuracy: 0.7778 - val_loss: 0.4727 - val_accuracy: 0.7690\n",
      "Epoch 4/10\n",
      "643/643 [==============================] - 95s 148ms/step - loss: 0.4297 - accuracy: 0.7995 - val_loss: 0.4617 - val_accuracy: 0.7830\n",
      "Epoch 5/10\n",
      "643/643 [==============================] - 96s 149ms/step - loss: 0.3911 - accuracy: 0.8214 - val_loss: 0.4441 - val_accuracy: 0.7861\n",
      "Epoch 6/10\n",
      "643/643 [==============================] - 96s 149ms/step - loss: 0.3476 - accuracy: 0.8460 - val_loss: 0.5038 - val_accuracy: 0.7690\n",
      "Epoch 7/10\n",
      "643/643 [==============================] - 97s 150ms/step - loss: 0.2994 - accuracy: 0.8703 - val_loss: 0.4784 - val_accuracy: 0.7900\n",
      "Epoch 8/10\n",
      "643/643 [==============================] - 95s 147ms/step - loss: 0.2487 - accuracy: 0.8958 - val_loss: 0.5085 - val_accuracy: 0.7817\n",
      "Epoch 9/10\n",
      "643/643 [==============================] - 95s 148ms/step - loss: 0.1980 - accuracy: 0.9210 - val_loss: 0.5424 - val_accuracy: 0.7940\n",
      "Epoch 10/10\n",
      "643/643 [==============================] - 95s 148ms/step - loss: 0.1501 - accuracy: 0.9424 - val_loss: 0.6704 - val_accuracy: 0.7791\n"
     ]
    },
    {
     "output_type": "execute_result",
     "data": {
      "text/plain": [
       "<keras.callbacks.History at 0x28122573ec8>"
      ]
     },
     "metadata": {},
     "execution_count": 28
    }
   ],
   "metadata": {}
  },
  {
   "cell_type": "markdown",
   "source": [
    "## Optimizing With TensorBoard\r\n"
   ],
   "metadata": {}
  },
  {
   "cell_type": "code",
   "execution_count": 30,
   "source": [
    "\r\n",
    "\r\n",
    "import tensorflow as tf \r\n",
    "# from tensorflow.keras.datasets import cifar10\r\n",
    "from tensorflow.keras.preprocessing.image import ImageDataGenerator\r\n",
    "from tensorflow.keras.models import Sequential\r\n",
    "from tensorflow.keras.layers import Dense, Dropout, Activation, Flatten\r\n",
    "# from keras.layers.convolutional import Conv2D\r\n",
    "from tensorflow.keras.layers import Conv2D, MaxPooling2D\r\n",
    "from tensorflow.keras.callbacks import TensorBoard\r\n",
    "import pickle\r\n",
    "import time\r\n",
    "\r\n",
    "\r\n",
    "tensorboard = TensorBoard(log_dir=f'logs/{NAME}')\r\n",
    "\r\n",
    "# gpu_options = tf.GPUOptions(per_process_gpu_memory_fraction=0.333)\r\n",
    "# sess = tf.Sessio\r\n",
    "\r\n",
    "X = pickle.load(open('X.pickle','rb'))\r\n",
    "y = pickle.load(open('y.pickle','rb'))\r\n",
    "y = np.array(y)\r\n",
    "#Consider normalizing the data\r\n",
    "#In imagery data, it varies from 0 to 255, so we divide it by 255\r\n",
    "\r\n",
    "X = X/255.0\r\n",
    "\r\n",
    "dense_layers = [0, 1, 2]\r\n",
    "layer_sizes = [32, 64, 128]\r\n",
    "conv_layers = [1, 2, 3]\r\n",
    "\r\n",
    "for dense_layer in dense_layers:\r\n",
    "  for layer_size in layer_sizes:\r\n",
    "    for conv_layer in conv_layers:\r\n",
    "      NAME = f'{conv_layer}-conv-{layer_size}-nodes-{dense_layer}-dense-{int(time.time())}'\r\n",
    "      #Building the a Sequential model \r\n",
    "      model = Sequential()\r\n",
    "      #We're skiping the first column\r\n",
    "      model.add(Conv2D(layer_size, (3,3), input_shape=X.shape[1:]) )\r\n",
    "      model.add(Activation('relu'))\r\n",
    "      model.add(MaxPooling2D(pool_size=(2,2)))\r\n",
    "\r\n",
    "      for l in range(conv_layer-1):\r\n",
    "        model.add(Conv2D(layer_size, (3,3)) )\r\n",
    "        model.add(Activation('relu'))\r\n",
    "        model.add(MaxPooling2D(pool_size=(2,2)))\r\n",
    "\r\n",
    "      model.add(Flatten())\r\n",
    "      for l in range(dense_layer):\r\n",
    "        model.add(Dense(dense_layer))\r\n",
    "        model.add(Activation('relu'))\r\n",
    "\r\n",
    "      model.add(Dense(1))\r\n",
    "      model.add(Activation('sigmoid'))\r\n",
    "\r\n",
    "      model.compile(\r\n",
    "        loss='binary_crossentropy',\r\n",
    "        optimizer='adam',\r\n",
    "        metrics=['accuracy']\r\n",
    "        )\r\n",
    "\r\n",
    "      model.fit(X, y, batch_size=32, epochs=10, \r\n",
    "      validation_split=0.1, callbacks=[tensorboard])\r\n"
   ],
   "outputs": [
    {
     "output_type": "stream",
     "name": "stdout",
     "text": [
      "1-conv-32-nodes-0-dense-1633468739\n",
      "2-conv-32-nodes-0-dense-1633468739\n",
      "3-conv-32-nodes-0-dense-1633468739\n",
      "1-conv-64-nodes-0-dense-1633468739\n",
      "2-conv-64-nodes-0-dense-1633468739\n",
      "3-conv-64-nodes-0-dense-1633468739\n",
      "1-conv-128-nodes-0-dense-1633468739\n",
      "2-conv-128-nodes-0-dense-1633468739\n",
      "3-conv-128-nodes-0-dense-1633468739\n",
      "1-conv-32-nodes-1-dense-1633468739\n",
      "2-conv-32-nodes-1-dense-1633468739\n",
      "3-conv-32-nodes-1-dense-1633468739\n",
      "1-conv-64-nodes-1-dense-1633468739\n",
      "2-conv-64-nodes-1-dense-1633468739\n",
      "3-conv-64-nodes-1-dense-1633468739\n",
      "1-conv-128-nodes-1-dense-1633468739\n",
      "2-conv-128-nodes-1-dense-1633468739\n",
      "3-conv-128-nodes-1-dense-1633468739\n",
      "1-conv-32-nodes-2-dense-1633468739\n",
      "2-conv-32-nodes-2-dense-1633468739\n",
      "3-conv-32-nodes-2-dense-1633468739\n",
      "1-conv-64-nodes-2-dense-1633468739\n",
      "2-conv-64-nodes-2-dense-1633468739\n",
      "3-conv-64-nodes-2-dense-1633468739\n",
      "1-conv-128-nodes-2-dense-1633468739\n",
      "2-conv-128-nodes-2-dense-1633468739\n",
      "3-conv-128-nodes-2-dense-1633468739\n"
     ]
    }
   ],
   "metadata": {}
  }
 ],
 "metadata": {
  "orig_nbformat": 4,
  "language_info": {
   "name": "python",
   "version": "3.7.4",
   "mimetype": "text/x-python",
   "codemirror_mode": {
    "name": "ipython",
    "version": 3
   },
   "pygments_lexer": "ipython3",
   "nbconvert_exporter": "python",
   "file_extension": ".py"
  },
  "kernelspec": {
   "name": "python3",
   "display_name": "Python 3.7.4 64-bit ('base': conda)"
  },
  "interpreter": {
   "hash": "26130839a7e87fd59e038942810dbb4909e5232b32b1ad521e6a6bc3043702c6"
  }
 },
 "nbformat": 4,
 "nbformat_minor": 2
}