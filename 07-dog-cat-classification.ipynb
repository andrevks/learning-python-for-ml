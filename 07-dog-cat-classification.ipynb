{
 "cells": [
  {
   "cell_type": "markdown",
   "source": [
    "## Dataset Preparation"
   ],
   "metadata": {}
  },
  {
   "cell_type": "code",
   "execution_count": 4,
   "source": [
    "import numpy as np\r\n",
    "import matplotlib.pyplot as plt\r\n",
    "import os \r\n",
    "import cv2\r\n",
    "\r\n",
    "\r\n",
    "DATADIR = \"E:\\Download\\python course\\datasets\\PetImages\"\r\n",
    "CATEGORIES = ['Dog', 'Cat']\r\n",
    "\r\n"
   ],
   "outputs": [],
   "metadata": {}
  },
  {
   "cell_type": "code",
   "execution_count": 5,
   "source": [
    "\r\n",
    "#Reshape imgs\r\n",
    "IMG_SIZE = 50"
   ],
   "outputs": [],
   "metadata": {}
  },
  {
   "cell_type": "code",
   "execution_count": 6,
   "source": [
    "#Training dataset\r\n",
    "\r\n",
    "training_data = []\r\n",
    "\r\n",
    "def create_training_data():\r\n",
    "  for category in CATEGORIES:\r\n",
    "    path = os.path.join(DATADIR, category) # Path to cats or dogs dir\r\n",
    "    class_num = CATEGORIES.index(category)\r\n",
    "    for img in os.listdir(path=path):\r\n",
    "      #Create a full path with the img.\r\n",
    "      #Then Convert the img to gray scale. \r\n",
    "      # REASONS:\r\n",
    "      #RGB data is 3x the size of gray scale data.\r\n",
    "      #Color is not relevant in this specific task.\r\n",
    "\r\n",
    "      try:\r\n",
    "        img_array = cv2.imread(os.path.join(path,img), cv2.IMREAD_GRAYSCALE)\r\n",
    "        new_array = cv2.resize(img_array, (IMG_SIZE, IMG_SIZE))\r\n",
    "        training_data.append([new_array, class_num])\r\n",
    "      except Exception as e:\r\n",
    "        pass\r\n",
    "\r\n",
    "create_training_data()"
   ],
   "outputs": [],
   "metadata": {}
  },
  {
   "cell_type": "code",
   "execution_count": 7,
   "source": [
    "#In classification your training data should be properly\r\n",
    "#balanced.\r\n",
    "#In this case it should be 50-50 for cats and dogs \r\n",
    "#This means, just as many cats and just as many dogs\r\n",
    "print(len(training_data))"
   ],
   "outputs": [
    {
     "output_type": "stream",
     "name": "stdout",
     "text": [
      "22860\n"
     ]
    }
   ],
   "metadata": {}
  },
  {
   "cell_type": "code",
   "execution_count": 8,
   "source": [
    "#it's important to shuffle the data\r\n",
    "import random\r\n",
    "\r\n",
    "#Shuffling the data\r\n",
    "random.shuffle(training_data)"
   ],
   "outputs": [],
   "metadata": {}
  },
  {
   "cell_type": "code",
   "execution_count": 9,
   "source": [
    "for sample in training_data[:10]:\r\n",
    "  print(sample[1])\r\n"
   ],
   "outputs": [
    {
     "output_type": "stream",
     "name": "stdout",
     "text": [
      "1\n",
      "1\n",
      "1\n",
      "1\n",
      "0\n",
      "1\n",
      "1\n",
      "0\n",
      "0\n",
      "0\n"
     ]
    }
   ],
   "metadata": {}
  },
  {
   "cell_type": "code",
   "execution_count": 10,
   "source": [
    "#Generally capital x is your future set.\r\n",
    "#Lower case y is where your labels are.\r\n",
    "X = []\r\n",
    "y = []"
   ],
   "outputs": [],
   "metadata": {}
  },
  {
   "cell_type": "code",
   "execution_count": 11,
   "source": [
    "\r\n",
    "for features, label in training_data:\r\n",
    "  X.append(features)\r\n",
    "  y.append(label)\r\n",
    "\r\n",
    "#The features are converted to a list, but\r\n",
    "#you can't pass a list to a neural network\r\n",
    "X = np.array(X).reshape(-1, IMG_SIZE, IMG_SIZE, 1)"
   ],
   "outputs": [],
   "metadata": {}
  },
  {
   "cell_type": "code",
   "execution_count": 12,
   "source": [
    "#Chances are you will be just tweaking the model the next time\r\n",
    "#So, you don't wanna to be rebuilding your dataset everytime\r\n",
    "#That why you need to save your data afterwards\r\n",
    "\r\n",
    "import pickle\r\n",
    "\r\n",
    "#Saving x\r\n",
    "pickle_out = open('X.pickle','wb')\r\n",
    "pickle.dump(X, pickle_out)\r\n",
    "pickle_out.close()\r\n",
    "\r\n",
    "\r\n",
    "#Saving y\r\n",
    "pickle_out = open('y.pickle','wb')\r\n",
    "pickle.dump(y, pickle_out)\r\n",
    "pickle_out.close()"
   ],
   "outputs": [],
   "metadata": {}
  },
  {
   "cell_type": "code",
   "execution_count": 13,
   "source": [
    "#Later, if you want to read it back in:\r\n",
    "\r\n",
    "pickle_in = open('X.pickle','rb')\r\n",
    "X = pickle.load(pickle_in)"
   ],
   "outputs": [],
   "metadata": {}
  },
  {
   "cell_type": "code",
   "execution_count": 14,
   "source": [
    "X[1]"
   ],
   "outputs": [
    {
     "output_type": "execute_result",
     "data": {
      "text/plain": [
       "array([[[ 83],\n",
       "        [ 90],\n",
       "        [ 89],\n",
       "        ...,\n",
       "        [ 81],\n",
       "        [ 82],\n",
       "        [ 68]],\n",
       "\n",
       "       [[ 85],\n",
       "        [ 94],\n",
       "        [106],\n",
       "        ...,\n",
       "        [ 97],\n",
       "        [ 89],\n",
       "        [ 79]],\n",
       "\n",
       "       [[100],\n",
       "        [ 96],\n",
       "        [108],\n",
       "        ...,\n",
       "        [102],\n",
       "        [ 94],\n",
       "        [ 87]],\n",
       "\n",
       "       ...,\n",
       "\n",
       "       [[128],\n",
       "        [140],\n",
       "        [148],\n",
       "        ...,\n",
       "        [108],\n",
       "        [ 96],\n",
       "        [102]],\n",
       "\n",
       "       [[127],\n",
       "        [134],\n",
       "        [142],\n",
       "        ...,\n",
       "        [111],\n",
       "        [ 93],\n",
       "        [ 87]],\n",
       "\n",
       "       [[117],\n",
       "        [131],\n",
       "        [141],\n",
       "        ...,\n",
       "        [ 86],\n",
       "        [ 85],\n",
       "        [ 77]]], dtype=uint8)"
      ]
     },
     "metadata": {},
     "execution_count": 14
    }
   ],
   "metadata": {}
  },
  {
   "cell_type": "markdown",
   "source": [
    "## Using Dataset\r\n",
    "\r\n",
    " - [Part3](https://www.youtube.com/watch?v=WvoLTXIjBYU&list=PLQVvvaa0QuDfhTox0AjmQ6tvTgMBZBEXN&index=4)"
   ],
   "metadata": {}
  },
  {
   "cell_type": "code",
   "execution_count": 17,
   "source": [
    "import tensorflow as tf \r\n",
    "from tensorflow.keras.models import Sequential\r\n",
    "from tensorflow.keras.layers import Dense, Dropout, Activation, Flatten, Conv2d, MaxPooling2D\r\n",
    "\r\n",
    "\r\n",
    "\r\n",
    "\r\n",
    "import pickle\r\n",
    "\r\n",
    "X = pickle.load(open('X.pickle','rb'))\r\n",
    "y = pickle.load(open('y.pickle','rb'))\r\n",
    "\r\n",
    "#Consider normalizing the data\r\n",
    "#In imagery data, it varies from 0 to 255, so we divide it by 255\r\n",
    "\r\n",
    "X = X/255.0\r\n",
    "\r\n",
    "#Building the model \r\n",
    "\r\n"
   ],
   "outputs": [
    {
     "output_type": "error",
     "ename": "ImportError",
     "evalue": "cannot import name 'Conv2d' from 'tensorflow.keras.layers' (C:\\Users\\andre\\Anaconda3\\lib\\site-packages\\keras\\api\\_v2\\keras\\layers\\__init__.py)",
     "traceback": [
      "\u001b[1;31m---------------------------------------------------------------------------\u001b[0m",
      "\u001b[1;31mImportError\u001b[0m                               Traceback (most recent call last)",
      "\u001b[1;32m<ipython-input-17-9e42a8f87a9d>\u001b[0m in \u001b[0;36m<module>\u001b[1;34m\u001b[0m\n\u001b[0;32m      1\u001b[0m \u001b[1;32mimport\u001b[0m \u001b[0mtensorflow\u001b[0m \u001b[1;32mas\u001b[0m \u001b[0mtf\u001b[0m\u001b[1;33m\u001b[0m\u001b[1;33m\u001b[0m\u001b[0m\n\u001b[0;32m      2\u001b[0m \u001b[1;32mfrom\u001b[0m \u001b[0mtensorflow\u001b[0m\u001b[1;33m.\u001b[0m\u001b[0mkeras\u001b[0m\u001b[1;33m.\u001b[0m\u001b[0mmodels\u001b[0m \u001b[1;32mimport\u001b[0m \u001b[0mSequential\u001b[0m\u001b[1;33m\u001b[0m\u001b[1;33m\u001b[0m\u001b[0m\n\u001b[1;32m----> 3\u001b[1;33m \u001b[1;32mfrom\u001b[0m \u001b[0mtensorflow\u001b[0m\u001b[1;33m.\u001b[0m\u001b[0mkeras\u001b[0m\u001b[1;33m.\u001b[0m\u001b[0mlayers\u001b[0m \u001b[1;32mimport\u001b[0m \u001b[0mDense\u001b[0m\u001b[1;33m,\u001b[0m \u001b[0mDropout\u001b[0m\u001b[1;33m,\u001b[0m \u001b[0mActivation\u001b[0m\u001b[1;33m,\u001b[0m \u001b[0mFlatten\u001b[0m\u001b[1;33m,\u001b[0m \u001b[0mConv2d\u001b[0m\u001b[1;33m,\u001b[0m \u001b[0mMaxPooling2D\u001b[0m\u001b[1;33m\u001b[0m\u001b[1;33m\u001b[0m\u001b[0m\n\u001b[0m\u001b[0;32m      4\u001b[0m \u001b[1;33m\u001b[0m\u001b[0m\n\u001b[0;32m      5\u001b[0m \u001b[1;33m\u001b[0m\u001b[0m\n",
      "\u001b[1;31mImportError\u001b[0m: cannot import name 'Conv2d' from 'tensorflow.keras.layers' (C:\\Users\\andre\\Anaconda3\\lib\\site-packages\\keras\\api\\_v2\\keras\\layers\\__init__.py)"
     ]
    }
   ],
   "metadata": {}
  }
 ],
 "metadata": {
  "orig_nbformat": 4,
  "language_info": {
   "name": "python",
   "version": "3.7.4",
   "mimetype": "text/x-python",
   "codemirror_mode": {
    "name": "ipython",
    "version": 3
   },
   "pygments_lexer": "ipython3",
   "nbconvert_exporter": "python",
   "file_extension": ".py"
  },
  "kernelspec": {
   "name": "python3",
   "display_name": "Python 3.7.4 64-bit ('base': conda)"
  },
  "interpreter": {
   "hash": "26130839a7e87fd59e038942810dbb4909e5232b32b1ad521e6a6bc3043702c6"
  }
 },
 "nbformat": 4,
 "nbformat_minor": 2
}