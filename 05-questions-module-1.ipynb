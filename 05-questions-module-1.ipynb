{
 "cells": [
  {
   "cell_type": "code",
   "execution_count": 113,
   "source": [
    "#Q1 - my way\r\n",
    "\r\n",
    "for i in range(5):\r\n",
    "  idx = 0\r\n",
    "  while (idx <= i):\r\n",
    "    print(i+1,end=' ')\r\n",
    "    idx+=1\r\n",
    "  print('\\n')"
   ],
   "outputs": [
    {
     "output_type": "stream",
     "name": "stdout",
     "text": [
      "1 \n",
      "\n",
      "2 2 \n",
      "\n",
      "3 3 3 \n",
      "\n",
      "4 4 4 4 \n",
      "\n",
      "5 5 5 5 5 \n",
      "\n"
     ]
    }
   ],
   "metadata": {}
  },
  {
   "cell_type": "code",
   "execution_count": 114,
   "source": [
    "#Q1 - Another way \r\n",
    "for num in range(6):\r\n",
    "  for i in range(num):\r\n",
    "    print(num,end=' ')\r\n",
    "  print('\\n')"
   ],
   "outputs": [
    {
     "output_type": "stream",
     "name": "stdout",
     "text": [
      "\n",
      "\n",
      "1 \n",
      "\n",
      "2 2 \n",
      "\n",
      "3 3 3 \n",
      "\n",
      "4 4 4 4 \n",
      "\n",
      "5 5 5 5 5 \n",
      "\n"
     ]
    }
   ],
   "metadata": {}
  },
  {
   "cell_type": "code",
   "execution_count": 115,
   "source": [
    "#Q2\r\n",
    "\r\n",
    "#My way\r\n",
    "def reverse_num(num):  \r\n",
    "  string = str(num)\r\n",
    "  str_len = len(string)\r\n",
    "  reverse_str = ''\r\n",
    "  i = str_len - 1\r\n",
    "  while (i >= 0):\r\n",
    "    reverse_str += string[i] + ' '\r\n",
    "    i-=1\r\n",
    "  return reverse_str\r\n",
    "\r\n",
    "print(reverse_num(7636))"
   ],
   "outputs": [
    {
     "output_type": "stream",
     "name": "stdout",
     "text": [
      "6 3 6 7 \n"
     ]
    }
   ],
   "metadata": {}
  },
  {
   "cell_type": "code",
   "execution_count": 116,
   "source": [
    "#Q2\r\n",
    "#Another way\r\n",
    "number = 7636\r\n",
    "\r\n",
    "while(number > 0):\r\n",
    "  #Take the number from the right of the comma \r\n",
    "  digit = number % 10\r\n",
    "  #// to take only the integer part of the div\r\n",
    "  #and the number from the right is 'gone' \r\n",
    "  number = number // 10\r\n",
    "  print(digit, end=' ')"
   ],
   "outputs": [
    {
     "output_type": "stream",
     "name": "stdout",
     "text": [
      "6 3 6 7 "
     ]
    }
   ],
   "metadata": {}
  },
  {
   "cell_type": "code",
   "execution_count": 121,
   "source": [
    "#Q3 - From the given dataset print the first and last five rows\r\n",
    "\r\n",
    "import pandas as pd \r\n",
    "\r\n",
    "\r\n",
    "df = pd.read_csv('Automobile_data.csv')\r\n",
    "print(df.head())\r\n",
    "print('\\n')\r\n",
    "print(df.tail())\r\n"
   ],
   "outputs": [
    {
     "output_type": "stream",
     "name": "stdout",
     "text": [
      "   index      company   body-style  wheel-base  length engine-type  \\\n",
      "0      0  alfa-romero  convertible        88.6   168.8        dohc   \n",
      "1      1  alfa-romero  convertible        88.6   168.8        dohc   \n",
      "2      2  alfa-romero    hatchback        94.5   171.2        ohcv   \n",
      "3      3         audi        sedan        99.8   176.6         ohc   \n",
      "4      4         audi        sedan        99.4   176.6         ohc   \n",
      "\n",
      "  num-of-cylinders  horsepower  average-mileage    price  \n",
      "0             four         111               21  13495.0  \n",
      "1             four         111               21  16500.0  \n",
      "2              six         154               19  16500.0  \n",
      "3             four         102               24  13950.0  \n",
      "4             five         115               18  17450.0  \n",
      "\n",
      "\n",
      "    index     company body-style  wheel-base  length engine-type  \\\n",
      "56     81  volkswagen      sedan        97.3   171.7         ohc   \n",
      "57     82  volkswagen      sedan        97.3   171.7         ohc   \n",
      "58     86  volkswagen      sedan        97.3   171.7         ohc   \n",
      "59     87       volvo      sedan       104.3   188.8         ohc   \n",
      "60     88       volvo      wagon       104.3   188.8         ohc   \n",
      "\n",
      "   num-of-cylinders  horsepower  average-mileage    price  \n",
      "56             four          85               27   7975.0  \n",
      "57             four          52               37   7995.0  \n",
      "58             four         100               26   9995.0  \n",
      "59             four         114               23  12940.0  \n",
      "60             four         114               23  13415.0  \n"
     ]
    }
   ],
   "metadata": {}
  },
  {
   "cell_type": "code",
   "execution_count": 139,
   "source": [
    "#Q4 - Find the most expensive car company name\r\n",
    "\r\n",
    "print(df['price'].max())\r\n",
    "\r\n",
    "print(df.columns.get_loc('price'))"
   ],
   "outputs": [
    {
     "output_type": "stream",
     "name": "stdout",
     "text": [
      "45400.0\n",
      "9\n"
     ]
    }
   ],
   "metadata": {}
  }
 ],
 "metadata": {
  "orig_nbformat": 4,
  "language_info": {
   "name": "python",
   "version": "3.7.4"
  },
  "kernelspec": {
   "name": "python3",
   "display_name": "Python 3.7.4 64-bit ('base': conda)"
  },
  "interpreter": {
   "hash": "26130839a7e87fd59e038942810dbb4909e5232b32b1ad521e6a6bc3043702c6"
  }
 },
 "nbformat": 4,
 "nbformat_minor": 2
}