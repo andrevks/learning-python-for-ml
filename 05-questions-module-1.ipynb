{
 "cells": [
  {
   "cell_type": "code",
   "execution_count": 17,
   "source": [
    "#Q1 - my way\r\n",
    "\r\n",
    "for i in range(5):\r\n",
    "  idx = 0\r\n",
    "  while (idx <= i):\r\n",
    "    print(i+1,end=' ')\r\n",
    "    idx+=1\r\n",
    "  print('\\n')"
   ],
   "outputs": [
    {
     "output_type": "stream",
     "name": "stdout",
     "text": [
      "1 \n",
      "\n",
      "2 2 \n",
      "\n",
      "3 3 3 \n",
      "\n",
      "4 4 4 4 \n",
      "\n",
      "5 5 5 5 5 \n",
      "\n"
     ]
    }
   ],
   "metadata": {}
  },
  {
   "cell_type": "code",
   "execution_count": 18,
   "source": [
    "#Q1 - Another way \r\n",
    "for num in range(6):\r\n",
    "  for i in range(num):\r\n",
    "    print(num,end=' ')\r\n",
    "  print('\\n')"
   ],
   "outputs": [
    {
     "output_type": "stream",
     "name": "stdout",
     "text": [
      "\n",
      "\n",
      "1 \n",
      "\n",
      "2 2 \n",
      "\n",
      "3 3 3 \n",
      "\n",
      "4 4 4 4 \n",
      "\n",
      "5 5 5 5 5 \n",
      "\n"
     ]
    }
   ],
   "metadata": {}
  },
  {
   "cell_type": "code",
   "execution_count": 19,
   "source": [
    "#Q2\r\n",
    "\r\n",
    "#My way\r\n",
    "def reverse_num(num):  \r\n",
    "  string = str(num)\r\n",
    "  str_len = len(string)\r\n",
    "  reverse_str = ''\r\n",
    "  i = str_len - 1\r\n",
    "  while (i >= 0):\r\n",
    "    reverse_str += string[i] + ' '\r\n",
    "    i-=1\r\n",
    "  return reverse_str\r\n",
    "\r\n",
    "print(reverse_num(7636))"
   ],
   "outputs": [
    {
     "output_type": "stream",
     "name": "stdout",
     "text": [
      "6 3 6 7 \n"
     ]
    }
   ],
   "metadata": {}
  },
  {
   "cell_type": "code",
   "execution_count": 20,
   "source": [
    "#Q2\r\n",
    "#Another way\r\n",
    "number = 7636\r\n",
    "\r\n",
    "while(number > 0):\r\n",
    "  #Take the number from the right of the comma \r\n",
    "  digit = number % 10\r\n",
    "  #// to take only the integer part of the div\r\n",
    "  #and the number from the right is 'gone' \r\n",
    "  number = number // 10\r\n",
    "  print(digit, end=' ')"
   ],
   "outputs": [
    {
     "output_type": "stream",
     "name": "stdout",
     "text": [
      "6 3 6 7 "
     ]
    }
   ],
   "metadata": {}
  },
  {
   "cell_type": "code",
   "execution_count": 21,
   "source": [
    "#Q3 - From the given dataset print the first and last five rows\r\n",
    "\r\n",
    "import pandas as pd \r\n",
    "\r\n",
    "\r\n",
    "df = pd.read_csv('Automobile_data.csv')\r\n",
    "#As default the head and tail will show 5 elements\r\n",
    "#But in case you need to see more rows just pass the number\r\n",
    "#of rows as a param.\r\n",
    "print(df.head(5))\r\n",
    "print('\\n')\r\n",
    "print(df.tail(5))\r\n"
   ],
   "outputs": [
    {
     "output_type": "stream",
     "name": "stdout",
     "text": [
      "   index      company   body-style  wheel-base  length engine-type  \\\n",
      "0      0  alfa-romero  convertible        88.6   168.8        dohc   \n",
      "1      1  alfa-romero  convertible        88.6   168.8        dohc   \n",
      "2      2  alfa-romero    hatchback        94.5   171.2        ohcv   \n",
      "3      3         audi        sedan        99.8   176.6         ohc   \n",
      "4      4         audi        sedan        99.4   176.6         ohc   \n",
      "\n",
      "  num-of-cylinders  horsepower  average-mileage    price  \n",
      "0             four         111               21  13495.0  \n",
      "1             four         111               21  16500.0  \n",
      "2              six         154               19  16500.0  \n",
      "3             four         102               24  13950.0  \n",
      "4             five         115               18  17450.0  \n",
      "\n",
      "\n",
      "    index     company body-style  wheel-base  length engine-type  \\\n",
      "56     81  volkswagen      sedan        97.3   171.7         ohc   \n",
      "57     82  volkswagen      sedan        97.3   171.7         ohc   \n",
      "58     86  volkswagen      sedan        97.3   171.7         ohc   \n",
      "59     87       volvo      sedan       104.3   188.8         ohc   \n",
      "60     88       volvo      wagon       104.3   188.8         ohc   \n",
      "\n",
      "   num-of-cylinders  horsepower  average-mileage    price  \n",
      "56             four          85               27   7975.0  \n",
      "57             four          52               37   7995.0  \n",
      "58             four         100               26   9995.0  \n",
      "59             four         114               23  12940.0  \n",
      "60             four         114               23  13415.0  \n"
     ]
    }
   ],
   "metadata": {}
  },
  {
   "cell_type": "code",
   "execution_count": 22,
   "source": [
    "#Q4 - Find the most expensive car company name\r\n",
    "\r\n",
    "df2 = df[['company','price']][df.price == df['price'].max()]\r\n",
    "df3 = df[['company','price']]\r\n",
    "df3 = df3[df.price == df.price.max()]\r\n",
    "print(df2)\r\n",
    "print()\r\n",
    "print(df3)"
   ],
   "outputs": [
    {
     "output_type": "stream",
     "name": "stdout",
     "text": [
      "          company    price\n",
      "35  mercedes-benz  45400.0\n",
      "\n",
      "          company    price\n",
      "35  mercedes-benz  45400.0\n"
     ]
    }
   ],
   "metadata": {}
  },
  {
   "cell_type": "code",
   "execution_count": 23,
   "source": [
    "#Q5 - Print All Toyota Cars details\r\n",
    "\r\n",
    "#My way \r\n",
    "df_toyota = df[df.company == 'toyota']\r\n",
    "print(df_toyota)\r\n",
    "print()\r\n",
    "\r\n",
    "#Another way\r\n",
    "df_toyota = df.groupby('company')\r\n",
    "df_toyota = df_toyota.get_group('toyota')\r\n",
    "print(df_toyota)\r\n"
   ],
   "outputs": [
    {
     "output_type": "stream",
     "name": "stdout",
     "text": [
      "    index company body-style  wheel-base  length engine-type num-of-cylinders  \\\n",
      "48     66  toyota  hatchback        95.7   158.7         ohc             four   \n",
      "49     67  toyota  hatchback        95.7   158.7         ohc             four   \n",
      "50     68  toyota  hatchback        95.7   158.7         ohc             four   \n",
      "51     69  toyota      wagon        95.7   169.7         ohc             four   \n",
      "52     70  toyota      wagon        95.7   169.7         ohc             four   \n",
      "53     71  toyota      wagon        95.7   169.7         ohc             four   \n",
      "54     79  toyota      wagon       104.5   187.8        dohc              six   \n",
      "\n",
      "    horsepower  average-mileage    price  \n",
      "48          62               35   5348.0  \n",
      "49          62               31   6338.0  \n",
      "50          62               31   6488.0  \n",
      "51          62               31   6918.0  \n",
      "52          62               27   7898.0  \n",
      "53          62               27   8778.0  \n",
      "54         156               19  15750.0  \n",
      "\n",
      "    index company body-style  wheel-base  length engine-type num-of-cylinders  \\\n",
      "48     66  toyota  hatchback        95.7   158.7         ohc             four   \n",
      "49     67  toyota  hatchback        95.7   158.7         ohc             four   \n",
      "50     68  toyota  hatchback        95.7   158.7         ohc             four   \n",
      "51     69  toyota      wagon        95.7   169.7         ohc             four   \n",
      "52     70  toyota      wagon        95.7   169.7         ohc             four   \n",
      "53     71  toyota      wagon        95.7   169.7         ohc             four   \n",
      "54     79  toyota      wagon       104.5   187.8        dohc              six   \n",
      "\n",
      "    horsepower  average-mileage    price  \n",
      "48          62               35   5348.0  \n",
      "49          62               31   6338.0  \n",
      "50          62               31   6488.0  \n",
      "51          62               31   6918.0  \n",
      "52          62               27   7898.0  \n",
      "53          62               27   8778.0  \n",
      "54         156               19  15750.0  \n"
     ]
    }
   ],
   "metadata": {}
  },
  {
   "cell_type": "code",
   "execution_count": 24,
   "source": [
    "#Q6 - Count total cars per company\r\n",
    "\r\n",
    "#Groupby and pass the name of the column to group on\r\n",
    "#My way (it's not sorted)\r\n",
    "df_total_cars = df.groupby('company')['company'].count()\r\n",
    "print(df_total_cars)\r\n",
    "\r\n",
    "print('\\n ------')\r\n",
    "#Another way (it looks better since the values are sorted)\r\n",
    "df_total_cars = df['company'].value_counts()\r\n",
    "print(df_total_cars)"
   ],
   "outputs": [
    {
     "output_type": "stream",
     "name": "stdout",
     "text": [
      "company\n",
      "alfa-romero      3\n",
      "audi             4\n",
      "bmw              6\n",
      "chevrolet        3\n",
      "dodge            2\n",
      "honda            3\n",
      "isuzu            3\n",
      "jaguar           3\n",
      "mazda            5\n",
      "mercedes-benz    4\n",
      "mitsubishi       4\n",
      "nissan           5\n",
      "porsche          3\n",
      "toyota           7\n",
      "volkswagen       4\n",
      "volvo            2\n",
      "Name: company, dtype: int64\n",
      "\n",
      " ------\n",
      "toyota           7\n",
      "bmw              6\n",
      "nissan           5\n",
      "mazda            5\n",
      "volkswagen       4\n",
      "audi             4\n",
      "mercedes-benz    4\n",
      "mitsubishi       4\n",
      "honda            3\n",
      "isuzu            3\n",
      "porsche          3\n",
      "jaguar           3\n",
      "alfa-romero      3\n",
      "chevrolet        3\n",
      "volvo            2\n",
      "dodge            2\n",
      "Name: company, dtype: int64\n"
     ]
    }
   ],
   "metadata": {}
  },
  {
   "cell_type": "code",
   "execution_count": 25,
   "source": [
    "#Q7 - Find the average mileage of each car making company\r\n",
    "\r\n",
    "#My way\r\n",
    "df_mileage = df[['company','average-mileage']].groupby('company').mean()\r\n",
    "print(df_mileage)\r\n",
    "print('\\n ----')\r\n",
    "\r\n",
    "#Another way\r\n",
    "#It's probably better to groupby first\r\n",
    "df_company = df.groupby('company')\r\n",
    "df_mileage = df_company['average-mileage'].mean()\r\n",
    "print(df_mileage)\r\n"
   ],
   "outputs": [
    {
     "output_type": "stream",
     "name": "stdout",
     "text": [
      "               average-mileage\n",
      "company                       \n",
      "alfa-romero          20.333333\n",
      "audi                 20.000000\n",
      "bmw                  19.000000\n",
      "chevrolet            41.000000\n",
      "dodge                31.000000\n",
      "honda                26.333333\n",
      "isuzu                33.333333\n",
      "jaguar               14.333333\n",
      "mazda                28.000000\n",
      "mercedes-benz        18.000000\n",
      "mitsubishi           29.500000\n",
      "nissan               31.400000\n",
      "porsche              17.000000\n",
      "toyota               28.714286\n",
      "volkswagen           31.750000\n",
      "volvo                23.000000\n",
      "\n",
      " ----\n",
      "company\n",
      "alfa-romero      20.333333\n",
      "audi             20.000000\n",
      "bmw              19.000000\n",
      "chevrolet        41.000000\n",
      "dodge            31.000000\n",
      "honda            26.333333\n",
      "isuzu            33.333333\n",
      "jaguar           14.333333\n",
      "mazda            28.000000\n",
      "mercedes-benz    18.000000\n",
      "mitsubishi       29.500000\n",
      "nissan           31.400000\n",
      "porsche          17.000000\n",
      "toyota           28.714286\n",
      "volkswagen       31.750000\n",
      "volvo            23.000000\n",
      "Name: average-mileage, dtype: float64\n"
     ]
    }
   ],
   "metadata": {}
  },
  {
   "cell_type": "code",
   "execution_count": 26,
   "source": [
    "#Q8 - Sort all cars by Price column\r\n",
    "\r\n",
    "#You can order from multiples columns\r\n",
    "df_price = df.sort_values(by=['price'],ascending=False)\r\n",
    "\r\n",
    "print(df_price)\r\n"
   ],
   "outputs": [
    {
     "output_type": "stream",
     "name": "stdout",
     "text": [
      "    index        company   body-style  wheel-base  length engine-type  \\\n",
      "35     47  mercedes-benz      hardtop       112.0   199.2        ohcv   \n",
      "11     14            bmw        sedan       103.5   193.8         ohc   \n",
      "34     46  mercedes-benz        sedan       120.9   208.1        ohcv   \n",
      "46     62        porsche  convertible        89.5   168.9        ohcf   \n",
      "12     15            bmw        sedan       110.0   197.0         ohc   \n",
      "..    ...            ...          ...         ...     ...         ...   \n",
      "27     36          mazda    hatchback        93.1   159.1         ohc   \n",
      "13     16      chevrolet    hatchback        88.4   141.1           l   \n",
      "22     31          isuzu        sedan        94.5   155.9         ohc   \n",
      "23     32          isuzu        sedan        94.5   155.9         ohc   \n",
      "47     63        porsche    hatchback        98.4   175.7       dohcv   \n",
      "\n",
      "   num-of-cylinders  horsepower  average-mileage    price  \n",
      "35            eight         184               14  45400.0  \n",
      "11              six         182               16  41315.0  \n",
      "34            eight         184               14  40960.0  \n",
      "46              six         207               17  37028.0  \n",
      "12              six         182               15  36880.0  \n",
      "..              ...         ...              ...      ...  \n",
      "27             four          68               30   5195.0  \n",
      "13            three          48               47   5151.0  \n",
      "22             four          70               38      NaN  \n",
      "23             four          70               38      NaN  \n",
      "47            eight         288               17      NaN  \n",
      "\n",
      "[61 rows x 10 columns]\n"
     ]
    }
   ],
   "metadata": {}
  },
  {
   "cell_type": "code",
   "execution_count": 27,
   "source": [
    "#Q9 - Concatenate two data frames using the following conditions\r\n",
    "\r\n",
    "germany_cars = {\r\n",
    "           'Company':['Ford','Mercedes', 'BMW','Audi'],\r\n",
    "           'Price':[23845,171995,135925,71400]\r\n",
    "        }\r\n",
    "\r\n",
    "german_df = pd.DataFrame(germany_cars)\r\n",
    "print(german_df)\r\n",
    "\r\n",
    "japan_cars = {\r\n",
    "          'Company': ['Toyota','Honda','Nissan', 'Mitsubishi'],\r\n",
    "          'Price':[29995,23600,61500,58900]\r\n",
    "        }\r\n",
    "\r\n",
    "japan_df = pd.DataFrame.from_dict(japan_cars)\r\n",
    "print(japan_df)\r\n",
    "\r\n",
    "print('\\n')\r\n",
    "frames = [german_df,japan_df]\r\n",
    "#Concat can concatnate multiple dataframes.\r\n",
    "#Keys are some kinda legend for each dataframe.\r\n",
    "contries_cars_df = pd.concat(frames,keys=['Germany','Japan'])\r\n",
    "\r\n",
    "print(contries_cars_df)"
   ],
   "outputs": [
    {
     "output_type": "stream",
     "name": "stdout",
     "text": [
      "    Company   Price\n",
      "0      Ford   23845\n",
      "1  Mercedes  171995\n",
      "2       BMW  135925\n",
      "3      Audi   71400\n",
      "      Company  Price\n",
      "0      Toyota  29995\n",
      "1       Honda  23600\n",
      "2      Nissan  61500\n",
      "3  Mitsubishi  58900\n",
      "\n",
      "\n",
      "              Company   Price\n",
      "Germany 0        Ford   23845\n",
      "        1    Mercedes  171995\n",
      "        2         BMW  135925\n",
      "        3        Audi   71400\n",
      "Japan   0      Toyota   29995\n",
      "        1       Honda   23600\n",
      "        2      Nissan   61500\n",
      "        3  Mitsubishi   58900\n"
     ]
    }
   ],
   "metadata": {}
  },
  {
   "cell_type": "code",
   "execution_count": 28,
   "source": [
    "#Q10 - Read Total profit of all months and show it using a line plot\r\n",
    "import numpy as np\r\n",
    "import matplotlib.pyplot as plt\r\n",
    "\r\n",
    "sales_df = pd.read_csv('company_sales_data.csv')\r\n",
    "x_month = sales_df['month_number'].to_list()\r\n",
    "y_profit = sales_df['total_profit'].to_list()\r\n",
    "\r\n",
    "#Setting the interval of ticks of x-axis\r\n",
    "plt.xticks(x_month)\r\n",
    "\r\n",
    "#Setting the interval of ticks of y-axis\r\n",
    "\r\n",
    "plt.title('Company Profit Per Month')\r\n",
    "plt.ylabel('Total Profit')\r\n",
    "plt.xlabel('Month Number')\r\n",
    "\r\n",
    "plt.plot(x_month,y_profit)\r\n",
    "\r\n",
    "#The intervals in yticks just worked after the plot method\r\n",
    "plt.yticks([100000,200000, 300000, 400000, 500000])\r\n",
    "plt.show()"
   ],
   "outputs": [
    {
     "output_type": "display_data",
     "data": {
      "image/png": "[encoded data removed]",
      "text/plain": [
       "<Figure size 432x288 with 1 Axes>"
      ]
     },
     "metadata": {
      "needs_background": "light"
     }
    }
   ],
   "metadata": {}
  },
  {
   "cell_type": "markdown",
   "source": [
    "## [Line plot styles in Matplotlib](https://www.pythoninformer.com/python-libraries/matplotlib/line-plots/)\r\n",
    "\r\n",
    "  - [Markers](https://matplotlib.org/stable/api/markers_api.html)"
   ],
   "metadata": {}
  },
  {
   "cell_type": "code",
   "execution_count": 29,
   "source": [
    "#Q11 - Get total profit of all months and show line plot with the following Style\r\n",
    "#properties\r\n",
    "\r\n",
    "import pandas as pd\r\n",
    "import matplotlib.pyplot as plt\r\n",
    "\r\n",
    "df_sales = pd.read_csv('company_sales_data.csv')\r\n",
    "\r\n",
    "months = df_sales['month_number'].to_list()\r\n",
    "totalProfit = df_sales['total_profit'].to_list()\r\n",
    "\r\n",
    "#Passing a string parameter with the color\r\n",
    "#r = red\r\n",
    "#Two dashes \"--\" make a dashed line\r\n",
    "plt.plot(months, totalProfit, color='r',linestyle='--',marker='o',\r\n",
    "         markeredgecolor='red',markerfacecolor='black',linewidth=3)\r\n",
    "\r\n",
    "plt.title('Company Sales Data From Last Year')\r\n",
    "plt.ylabel('Sold Units Number')\r\n",
    "plt.xlabel('Month Number')\r\n",
    "\r\n",
    "plt.xticks(months)\r\n",
    "plt.yticks([100000, 200000, 300000, 400000, 500000])\r\n",
    "\r\n",
    "plt.legend(['Profit data from last year'],loc=4)\r\n",
    "plt.show()"
   ],
   "outputs": [
    {
     "output_type": "display_data",
     "data": {
      "image/png": "[encoded data removed]",
      "text/plain": [
       "<Figure size 432x288 with 1 Axes>"
      ]
     },
     "metadata": {
      "needs_background": "light"
     }
    }
   ],
   "metadata": {}
  },
  {
   "cell_type": "code",
   "execution_count": 30,
   "source": [
    "#Q12 - Read toothpaste sales data of each month and show it using a scatter plot\r\n",
    "#Also, add a grid in the plot. gridline style should “–“.\r\n",
    "#The scatter plot should look like this.\r\n",
    "\r\n",
    "sales_df = pd.read_csv('company_sales_data.csv')\r\n",
    "toothpaste = sales_df['toothpaste'].to_list()\r\n",
    "months = sales_df['month_number'].to_list()\r\n",
    "\r\n",
    "plt.xticks(months)\r\n",
    "plt.title('Tooth Paste Sales Data')\r\n",
    "plt.xlabel('Month Number')\r\n",
    "plt.ylabel('Number of units Sold')\r\n",
    "\r\n",
    "plt.scatter(months, toothpaste)\r\n",
    "plt.grid(linestyle='--', linewidth=1)\r\n",
    "plt.legend(['Tooth paste Sales data'], loc='upper left')\r\n",
    "plt.show()\r\n",
    "\r\n",
    "\r\n"
   ],
   "outputs": [
    {
     "output_type": "display_data",
     "data": {
      "image/png": "[encoded data removed]",
      "text/plain": [
       "<Figure size 432x288 with 1 Axes>"
      ]
     },
     "metadata": {
      "needs_background": "light"
     }
    }
   ],
   "metadata": {}
  },
  {
   "cell_type": "markdown",
   "source": [
    "### Bar Chart \r\n",
    "\r\n",
    "- [Python Pool - Matplotlib](https://www.pythonpool.com/matplotlib-bar/)"
   ],
   "metadata": {}
  },
  {
   "cell_type": "code",
   "execution_count": 31,
   "source": [
    "#Q13 - Read face cream and facewash product sales data and show it using the bar\r\n",
    "#chart. #\r\n",
    "#The bar chart should display the number of units sold per month for each product.\r\n",
    "# Add a separate bar for each product in the same chart.\r\n",
    "\r\n",
    "months = sales_df['month_number'].to_list()\r\n",
    "plt.title('Facewash and Facecream Sales Data')\r\n",
    "plt.xlabel('Month Number')\r\n",
    "plt.ylabel('Number of units Sold')\r\n",
    "facewash = sales_df['facewash'].to_list()\r\n",
    "facecream = sales_df['facecream'].to_list()\r\n",
    "width = 0.3\r\n",
    "\r\n",
    "months_wash = [ mon + width for mon in months]\r\n",
    "\r\n",
    "plt.bar(x=months, height=facecream, bottom=0, width=width, label='Face Cream sales data',align='edge')\r\n",
    "\r\n",
    "plt.bar(x=months_wash, height=facewash, bottom=0, width=width, label='Face Wash sales data',align='edge')\r\n",
    "\r\n",
    "plt.xticks(months)\r\n",
    "plt.grid(linestyle='--',linewidth=1)\r\n",
    "plt.legend(loc='upper left')\r\n",
    "plt.show()\r\n"
   ],
   "outputs": [
    {
     "output_type": "display_data",
     "data": {
      "image/png": "[encoded data removed]",
      "text/plain": [
       "<Figure size 432x288 with 1 Axes>"
      ]
     },
     "metadata": {
      "needs_background": "light"
     }
    }
   ],
   "metadata": {}
  },
  {
   "cell_type": "markdown",
   "source": [
    "### Save Bar Chart \r\n",
    "\r\n",
    "- [Save a Plot to a File - Matplotlib](https://chartio.com/resources/tutorials/how-to-save-a-plot-to-a-file-using-matplotlib/)"
   ],
   "metadata": {}
  },
  {
   "cell_type": "code",
   "execution_count": 33,
   "source": [
    "#Q14 - Read sales data of bathing soap of all months and show it using a bar chart.\r\n",
    "#Save this plot to your hard disk\r\n",
    "\r\n",
    "\r\n",
    "bathing_soap = sales_df['bathingsoap'].to_list()\r\n",
    "\r\n",
    "plt.bar(x=months, height= bathing_soap )\r\n",
    "plt.title('Bathing Soap Sales Data')\r\n",
    "plt.xlabel('Month Number')\r\n",
    "plt.ylabel('Sales Units in Number')\r\n",
    "plt.xticks(months)\r\n",
    "plt.grid(linestyle='--',linewidth=1)\r\n",
    "#Saving chart \r\n",
    "plt.savefig('bathing_soap_sales',dpi=150)\r\n",
    "plt.show()\r\n"
   ],
   "outputs": [
    {
     "output_type": "display_data",
     "data": {
      "image/png": "[encoded data removed]",
      "text/plain": [
       "<Figure size 432x288 with 1 Axes>"
      ]
     },
     "metadata": {
      "needs_background": "light"
     }
    }
   ],
   "metadata": {}
  }
 ],
 "metadata": {
  "orig_nbformat": 4,
  "language_info": {
   "name": "python",
   "version": "3.7.4",
   "mimetype": "text/x-python",
   "codemirror_mode": {
    "name": "ipython",
    "version": 3
   },
   "pygments_lexer": "ipython3",
   "nbconvert_exporter": "python",
   "file_extension": ".py"
  },
  "kernelspec": {
   "name": "python3",
   "display_name": "Python 3.7.4 64-bit ('base': conda)"
  },
  "interpreter": {
   "hash": "26130839a7e87fd59e038942810dbb4909e5232b32b1ad521e6a6bc3043702c6"
  }
 },
 "nbformat": 4,
 "nbformat_minor": 2
}