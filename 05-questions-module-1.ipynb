{
 "cells": [
  {
   "cell_type": "code",
   "execution_count": 113,
   "source": [
    "#Q1 - my way\r\n",
    "\r\n",
    "for i in range(5):\r\n",
    "  idx = 0\r\n",
    "  while (idx <= i):\r\n",
    "    print(i+1,end=' ')\r\n",
    "    idx+=1\r\n",
    "  print('\\n')"
   ],
   "outputs": [
    {
     "output_type": "stream",
     "name": "stdout",
     "text": [
      "1 \n",
      "\n",
      "2 2 \n",
      "\n",
      "3 3 3 \n",
      "\n",
      "4 4 4 4 \n",
      "\n",
      "5 5 5 5 5 \n",
      "\n"
     ]
    }
   ],
   "metadata": {}
  },
  {
   "cell_type": "code",
   "execution_count": 114,
   "source": [
    "#Q1 - Another way \r\n",
    "for num in range(6):\r\n",
    "  for i in range(num):\r\n",
    "    print(num,end=' ')\r\n",
    "  print('\\n')"
   ],
   "outputs": [
    {
     "output_type": "stream",
     "name": "stdout",
     "text": [
      "\n",
      "\n",
      "1 \n",
      "\n",
      "2 2 \n",
      "\n",
      "3 3 3 \n",
      "\n",
      "4 4 4 4 \n",
      "\n",
      "5 5 5 5 5 \n",
      "\n"
     ]
    }
   ],
   "metadata": {}
  },
  {
   "cell_type": "code",
   "execution_count": 115,
   "source": [
    "#Q2\r\n",
    "\r\n",
    "#My way\r\n",
    "def reverse_num(num):  \r\n",
    "  string = str(num)\r\n",
    "  str_len = len(string)\r\n",
    "  reverse_str = ''\r\n",
    "  i = str_len - 1\r\n",
    "  while (i >= 0):\r\n",
    "    reverse_str += string[i] + ' '\r\n",
    "    i-=1\r\n",
    "  return reverse_str\r\n",
    "\r\n",
    "print(reverse_num(7636))"
   ],
   "outputs": [
    {
     "output_type": "stream",
     "name": "stdout",
     "text": [
      "6 3 6 7 \n"
     ]
    }
   ],
   "metadata": {}
  },
  {
   "cell_type": "code",
   "execution_count": 116,
   "source": [
    "#Q2\r\n",
    "#Another way\r\n",
    "number = 7636\r\n",
    "\r\n",
    "while(number > 0):\r\n",
    "  #Take the number from the right of the comma \r\n",
    "  digit = number % 10\r\n",
    "  #// to take only the integer part of the div\r\n",
    "  #and the number from the right is 'gone' \r\n",
    "  number = number // 10\r\n",
    "  print(digit, end=' ')"
   ],
   "outputs": [
    {
     "output_type": "stream",
     "name": "stdout",
     "text": [
      "6 3 6 7 "
     ]
    }
   ],
   "metadata": {}
  },
  {
   "cell_type": "code",
   "execution_count": 45,
   "source": [
    "#Q3 - From the given dataset print the first and last five rows\r\n",
    "\r\n",
    "import pandas as pd \r\n",
    "\r\n",
    "\r\n",
    "df = pd.read_csv('Automobile_data.csv')\r\n",
    "#As default the head and tail will show 5 elements\r\n",
    "#But in case you need to see more rows just pass the number\r\n",
    "#of rows as a param.\r\n",
    "print(df.head(5))\r\n",
    "print('\\n')\r\n",
    "print(df.tail(5))\r\n"
   ],
   "outputs": [
    {
     "output_type": "stream",
     "name": "stdout",
     "text": [
      "   index      company   body-style  wheel-base  length engine-type  \\\n",
      "0      0  alfa-romero  convertible        88.6   168.8        dohc   \n",
      "1      1  alfa-romero  convertible        88.6   168.8        dohc   \n",
      "2      2  alfa-romero    hatchback        94.5   171.2        ohcv   \n",
      "3      3         audi        sedan        99.8   176.6         ohc   \n",
      "4      4         audi        sedan        99.4   176.6         ohc   \n",
      "\n",
      "  num-of-cylinders  horsepower  average-mileage    price  \n",
      "0             four         111               21  13495.0  \n",
      "1             four         111               21  16500.0  \n",
      "2              six         154               19  16500.0  \n",
      "3             four         102               24  13950.0  \n",
      "4             five         115               18  17450.0  \n",
      "\n",
      "\n",
      "    index     company body-style  wheel-base  length engine-type  \\\n",
      "56     81  volkswagen      sedan        97.3   171.7         ohc   \n",
      "57     82  volkswagen      sedan        97.3   171.7         ohc   \n",
      "58     86  volkswagen      sedan        97.3   171.7         ohc   \n",
      "59     87       volvo      sedan       104.3   188.8         ohc   \n",
      "60     88       volvo      wagon       104.3   188.8         ohc   \n",
      "\n",
      "   num-of-cylinders  horsepower  average-mileage    price  \n",
      "56             four          85               27   7975.0  \n",
      "57             four          52               37   7995.0  \n",
      "58             four         100               26   9995.0  \n",
      "59             four         114               23  12940.0  \n",
      "60             four         114               23  13415.0  \n"
     ]
    }
   ],
   "metadata": {}
  },
  {
   "cell_type": "code",
   "execution_count": 81,
   "source": [
    "#Q4 - Find the most expensive car company name\r\n",
    "\r\n",
    "df2 = df[['company','price']][df.price == df['price'].max()]\r\n",
    "df3 = df[['company','price']]\r\n",
    "df3 = df3[df.price == df.price.max()]\r\n",
    "print(df2)\r\n",
    "print()\r\n",
    "print(df3)"
   ],
   "outputs": [
    {
     "output_type": "stream",
     "name": "stdout",
     "text": [
      "          company    price\n",
      "35  mercedes-benz  45400.0\n",
      "\n",
      "          company    price\n",
      "35  mercedes-benz  45400.0\n"
     ]
    }
   ],
   "metadata": {}
  },
  {
   "cell_type": "code",
   "execution_count": 140,
   "source": [
    "#Q5 - Print All Toyota Cars details\r\n",
    "\r\n",
    "#My way \r\n",
    "df_toyota = df[df.company == 'toyota']\r\n",
    "print(df_toyota)\r\n",
    "print()\r\n",
    "\r\n",
    "#Another way\r\n",
    "df_toyota = df.groupby('company')\r\n",
    "df_toyota = df_toyota.get_group('toyota')\r\n",
    "print(df_toyota)\r\n"
   ],
   "outputs": [
    {
     "output_type": "stream",
     "name": "stdout",
     "text": [
      "    index company body-style  wheel-base  length engine-type num-of-cylinders  \\\n",
      "48     66  toyota  hatchback        95.7   158.7         ohc             four   \n",
      "49     67  toyota  hatchback        95.7   158.7         ohc             four   \n",
      "50     68  toyota  hatchback        95.7   158.7         ohc             four   \n",
      "51     69  toyota      wagon        95.7   169.7         ohc             four   \n",
      "52     70  toyota      wagon        95.7   169.7         ohc             four   \n",
      "53     71  toyota      wagon        95.7   169.7         ohc             four   \n",
      "54     79  toyota      wagon       104.5   187.8        dohc              six   \n",
      "\n",
      "    horsepower  average-mileage    price  \n",
      "48          62               35   5348.0  \n",
      "49          62               31   6338.0  \n",
      "50          62               31   6488.0  \n",
      "51          62               31   6918.0  \n",
      "52          62               27   7898.0  \n",
      "53          62               27   8778.0  \n",
      "54         156               19  15750.0  \n",
      "\n",
      "    index company body-style  wheel-base  length engine-type num-of-cylinders  \\\n",
      "48     66  toyota  hatchback        95.7   158.7         ohc             four   \n",
      "49     67  toyota  hatchback        95.7   158.7         ohc             four   \n",
      "50     68  toyota  hatchback        95.7   158.7         ohc             four   \n",
      "51     69  toyota      wagon        95.7   169.7         ohc             four   \n",
      "52     70  toyota      wagon        95.7   169.7         ohc             four   \n",
      "53     71  toyota      wagon        95.7   169.7         ohc             four   \n",
      "54     79  toyota      wagon       104.5   187.8        dohc              six   \n",
      "\n",
      "    horsepower  average-mileage    price  \n",
      "48          62               35   5348.0  \n",
      "49          62               31   6338.0  \n",
      "50          62               31   6488.0  \n",
      "51          62               31   6918.0  \n",
      "52          62               27   7898.0  \n",
      "53          62               27   8778.0  \n",
      "54         156               19  15750.0  \n"
     ]
    }
   ],
   "metadata": {}
  },
  {
   "cell_type": "code",
   "execution_count": 145,
   "source": [
    "#Q6 - Count total cars per company\r\n",
    "\r\n",
    "#Groupby and pass the name of the column to group on\r\n",
    "#My way (it's not sorted)\r\n",
    "df_total_cars = df.groupby('company')['company'].count()\r\n",
    "print(df_total_cars)\r\n",
    "\r\n",
    "print('\\n ------')\r\n",
    "#Another way (it looks better since the values are sorted)\r\n",
    "df_total_cars = df['company'].value_counts()\r\n",
    "print(df_total_cars)"
   ],
   "outputs": [
    {
     "output_type": "stream",
     "name": "stdout",
     "text": [
      "company\n",
      "alfa-romero      3\n",
      "audi             4\n",
      "bmw              6\n",
      "chevrolet        3\n",
      "dodge            2\n",
      "honda            3\n",
      "isuzu            3\n",
      "jaguar           3\n",
      "mazda            5\n",
      "mercedes-benz    4\n",
      "mitsubishi       4\n",
      "nissan           5\n",
      "porsche          3\n",
      "toyota           7\n",
      "volkswagen       4\n",
      "volvo            2\n",
      "Name: company, dtype: int64\n",
      "\n",
      " ------\n",
      "toyota           7\n",
      "bmw              6\n",
      "nissan           5\n",
      "mazda            5\n",
      "mercedes-benz    4\n",
      "audi             4\n",
      "volkswagen       4\n",
      "mitsubishi       4\n",
      "honda            3\n",
      "alfa-romero      3\n",
      "jaguar           3\n",
      "porsche          3\n",
      "isuzu            3\n",
      "chevrolet        3\n",
      "volvo            2\n",
      "dodge            2\n",
      "Name: company, dtype: int64\n"
     ]
    }
   ],
   "metadata": {}
  },
  {
   "cell_type": "code",
   "execution_count": 160,
   "source": [
    "#Q7 - Find the average mileage of each car making company\r\n",
    "\r\n",
    "df_mileage = df[['company','average-mileage']].groupby('company').mean()\r\n",
    "print(df_mileage)\r\n",
    "print('\\n ----')\r\n",
    "\r\n",
    "df_company = df.groupby('company')\r\n",
    "df_mileage = df_company['average-mileage'].mean()\r\n",
    "print(df_mileage)\r\n"
   ],
   "outputs": [
    {
     "output_type": "stream",
     "name": "stdout",
     "text": [
      "               average-mileage\n",
      "company                       \n",
      "alfa-romero          20.333333\n",
      "audi                 20.000000\n",
      "bmw                  19.000000\n",
      "chevrolet            41.000000\n",
      "dodge                31.000000\n",
      "honda                26.333333\n",
      "isuzu                33.333333\n",
      "jaguar               14.333333\n",
      "mazda                28.000000\n",
      "mercedes-benz        18.000000\n",
      "mitsubishi           29.500000\n",
      "nissan               31.400000\n",
      "porsche              17.000000\n",
      "toyota               28.714286\n",
      "volkswagen           31.750000\n",
      "volvo                23.000000\n",
      "\n",
      " ----\n",
      "company\n",
      "alfa-romero      20.333333\n",
      "audi             20.000000\n",
      "bmw              19.000000\n",
      "chevrolet        41.000000\n",
      "dodge            31.000000\n",
      "honda            26.333333\n",
      "isuzu            33.333333\n",
      "jaguar           14.333333\n",
      "mazda            28.000000\n",
      "mercedes-benz    18.000000\n",
      "mitsubishi       29.500000\n",
      "nissan           31.400000\n",
      "porsche          17.000000\n",
      "toyota           28.714286\n",
      "volkswagen       31.750000\n",
      "volvo            23.000000\n",
      "Name: average-mileage, dtype: float64\n"
     ]
    }
   ],
   "metadata": {}
  }
 ],
 "metadata": {
  "orig_nbformat": 4,
  "language_info": {
   "name": "python",
   "version": "3.7.4"
  },
  "kernelspec": {
   "name": "python3",
   "display_name": "Python 3.7.4 64-bit ('base': conda)"
  },
  "interpreter": {
   "hash": "26130839a7e87fd59e038942810dbb4909e5232b32b1ad521e6a6bc3043702c6"
  }
 },
 "nbformat": 4,
 "nbformat_minor": 2
}