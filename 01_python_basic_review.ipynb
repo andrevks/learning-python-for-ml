{
  "nbformat": 4,
  "nbformat_minor": 0,
  "metadata": {
    "colab": {
      "name": "01-python-basic-review.ipynb",
      "provenance": [],
      "collapsed_sections": [
        "-AS1tkhUd0Y5",
        "ydg89Xz9ufDf"
      ],
      "authorship_tag": "ABX9TyMJOwi2ssCMx2Woa1r112eI",
      "include_colab_link": true
    },
    "kernelspec": {
      "name": "python3",
      "display_name": "Python 3"
    },
    "language_info": {
      "name": "python"
    }
  },
  "cells": [
    {
      "cell_type": "markdown",
      "metadata": {
        "id": "view-in-github",
        "colab_type": "text"
      },
      "source": [
        "<a href=\"https://colab.research.google.com/github/andrevks/learning-python-for-ml/blob/main/01_python_basic_review.ipynb\" target=\"_parent\"><img src=\"https://colab.research.google.com/assets/colab-badge.svg\" alt=\"Open In Colab\"/></a>"
      ]
    },
    {
      "cell_type": "markdown",
      "metadata": {
        "id": "-AS1tkhUd0Y5"
      },
      "source": [
        "# Working With JSON \n",
        "\n",
        "1 - Create an address book and write some records into it\n",
        "\n",
        "2 - Read the address book\n"
      ]
    },
    {
      "cell_type": "code",
      "metadata": {
        "id": "-am8F_23d7v-"
      },
      "source": [
        "#Creating a dict to represent JSON\n",
        "book = {}\n",
        "book['tim'] = {\n",
        "    'name': 'Tim Ferris',\n",
        "    'address': '34 black street, NY',\n",
        "    'phone': 9823423\n",
        "}\n",
        "\n",
        "book['jack'] = {\n",
        "    'name': 'BoJack Horseman',\n",
        "    'address': '23 pink street, NY',\n",
        "    'phone': 9665623\n",
        "}\n",
        "\n",
        "\n",
        "import json \n",
        "#Taking the dictionary object called book as a input\n",
        "#Then it's dumping it as a string and converting to json format\n",
        "s = json.dumps(book)\n",
        "#{\"tim\": {\"name\": \"Tim Ferris\", \"address\": \"34 black street, NY\", \"phone\": 9823423}, \"jack\": {\"name\": \"BoJack Horseman\", \"address\": \"23 pink street, NY\", \"phone\": 9665623}}\n",
        "\n",
        "with open(\"book.txt\", \"w\") as f:\n",
        "  f.write(s)"
      ],
      "execution_count": null,
      "outputs": []
    },
    {
      "cell_type": "code",
      "metadata": {
        "colab": {
          "base_uri": "https://localhost:8080/"
        },
        "id": "flfJGh8khmg6",
        "outputId": "349a229b-651c-4b81-9a00-a395b81cebc1"
      },
      "source": [
        "#Reading the JSON book.txt\n",
        "f = open(\"book.txt\",\"r\")\n",
        "s = f.read() ## It's a string\n",
        "print(s)\n",
        "print(\"Type of Book before: \", type(s))\n",
        "\n",
        "book_dict = json.loads(s) #Converting to the dictionary format  \n",
        "print(book)\n",
        "print(f'Type of Book: {type(book_dict)}')\n",
        "print(\"Jack: \")\n",
        "print(book_dict['jack'])\n",
        "print(book_dict['jack']['phone'])\n",
        "\n",
        "print(\"All people in the book\")\n",
        "\n",
        "for person in book_dict:\n",
        "  print(book_dict[person])"
      ],
      "execution_count": null,
      "outputs": [
        {
          "output_type": "stream",
          "name": "stdout",
          "text": [
            "{\"tim\": {\"name\": \"Tim Ferris\", \"address\": \"34 black street, NY\", \"phone\": 9823423}, \"jack\": {\"name\": \"BoJack Horseman\", \"address\": \"23 pink street, NY\", \"phone\": 9665623}}\n",
            "Type of Book before:  <class 'str'>\n",
            "{'tim': {'name': 'Tim Ferris', 'address': '34 black street, NY', 'phone': 9823423}, 'jack': {'name': 'BoJack Horseman', 'address': '23 pink street, NY', 'phone': 9665623}}\n",
            "Type of Book: <class 'dict'>\n",
            "Jack: \n",
            "{'name': 'BoJack Horseman', 'address': '23 pink street, NY', 'phone': 9665623}\n",
            "9665623\n",
            "All people in the book\n",
            "{'name': 'Tim Ferris', 'address': '34 black street, NY', 'phone': 9823423}\n",
            "{'name': 'BoJack Horseman', 'address': '23 pink street, NY', 'phone': 9665623}\n"
          ]
        }
      ]
    },
    {
      "cell_type": "markdown",
      "metadata": {
        "id": "ydg89Xz9ufDf"
      },
      "source": [
        "# if _ _name_ _ == \"__main__\""
      ]
    },
    {
      "cell_type": "code",
      "metadata": {
        "colab": {
          "base_uri": "https://localhost:8080/",
          "height": 35
        },
        "id": "LFHXUA4jo1bc",
        "outputId": "dd3ef22e-bd16-466a-b6b5-64b6ea7f539d"
      },
      "source": [
        "#It's a predefined variable in python\n",
        "__name__"
      ],
      "execution_count": null,
      "outputs": [
        {
          "output_type": "execute_result",
          "data": {
            "application/vnd.google.colaboratory.intrinsic+json": {
              "type": "string"
            },
            "text/plain": [
              "'__main__'"
            ]
          },
          "metadata": {},
          "execution_count": 28
        }
      ]
    },
    {
      "cell_type": "code",
      "metadata": {
        "colab": {
          "base_uri": "https://localhost:8080/"
        },
        "id": "cQjTnKhBpDbF",
        "outputId": "81927fb0-afde-4fd2-f1ad-88fd8edb2828"
      },
      "source": [
        "#Instead of using a main() function as an entry point as in other programming languages\n",
        "#We can do like this:\n",
        "\n",
        "if __name__ == \"__main__\":\n",
        "  print('That\\'s pretty nice, Python is awesome !')"
      ],
      "execution_count": null,
      "outputs": [
        {
          "output_type": "stream",
          "name": "stdout",
          "text": [
            "That's pretty nice, Python is awesome !\n"
          ]
        }
      ]
    },
    {
      "cell_type": "code",
      "metadata": {
        "colab": {
          "base_uri": "https://localhost:8080/"
        },
        "id": "WD3ZS5_WtVgw",
        "outputId": "2cca5ee0-634b-4596-8d54-e1a7fef51ce9"
      },
      "source": [
        "#It changes when the module is imported though:\n",
        "\n",
        "# Suppose you have a python program called **area.py**\n",
        "\n",
        "# In **area.py**:\n",
        "\n",
        "def calc_area(base, height):\n",
        "  print(\"__name__: \", __name__)\n",
        "  return 1/2 * (base*height)\n",
        "\n",
        "if __name__ == \"__main__\":\n",
        "    print(\"I am in area.py\")\n",
        "    a = calc_area(10, 20)\n",
        "    print(\"area: \", a)\n",
        "\n",
        "# When you run it the result is that the name is **__main__** when executed in this file"
      ],
      "execution_count": null,
      "outputs": [
        {
          "output_type": "stream",
          "name": "stdout",
          "text": [
            "I am in area.py\n",
            "__name__:  __main__\n",
            "area:  100.0\n"
          ]
        }
      ]
    },
    {
      "cell_type": "code",
      "metadata": {
        "colab": {
          "base_uri": "https://localhost:8080/"
        },
        "id": "rzfvDJ22tdzz",
        "outputId": "3ca28d73-667c-4864-d3b3-b24c114af1df"
      },
      "source": [
        "\n",
        "# However, suppose you have other python program called **caller.py**\n",
        "\n",
        "# In caller.py:\n",
        "\n",
        "# import area\n",
        "print(\"I'm in caller.py\")\n",
        "# area.calc_area(5,10)\n",
        "print(\"__name__:  __area__\")\n",
        "\n",
        "# The value of name here is **__area__** instead of __main__, so it's the name of the module that was imported\n",
        "\n"
      ],
      "execution_count": null,
      "outputs": [
        {
          "output_type": "stream",
          "name": "stdout",
          "text": [
            "I'm in caller.py\n",
            "__name__:  __area__\n"
          ]
        }
      ]
    },
    {
      "cell_type": "markdown",
      "metadata": {
        "id": "puqYMDkVujvL"
      },
      "source": [
        "# "
      ]
    },
    {
      "cell_type": "markdown",
      "metadata": {
        "id": "YMO_Wa4VvXma"
      },
      "source": [
        "# Basics - Python Course\n"
      ]
    },
    {
      "cell_type": "code",
      "metadata": {
        "colab": {
          "base_uri": "https://localhost:8080/"
        },
        "id": "93tFHHXTvZnZ",
        "outputId": "1f9f41e6-3ba4-4020-9e5f-d0e30dabb98a"
      },
      "source": [
        "#-PY3 - Strings\n",
        "string = \"A string is just fine and this is awesome\"\n",
        "\n",
        "# In the initial value, the number is included\n",
        "print(string[3:])\n",
        "\n",
        "# The final value, the number is not included.\n",
        "#So if you write 8 it goes until 7 \n",
        "print(string[:8])\n",
        "\n",
        "#We can repeat the same string by multiplying \n",
        "print(2 * string)\n",
        "\n",
        "\n",
        "print(string.split())\n",
        "\n",
        "#Split by the caracter sent int the parameter\n",
        "print(string.split('is'))"
      ],
      "execution_count": null,
      "outputs": [
        {
          "output_type": "stream",
          "name": "stdout",
          "text": [
            "tring is just fine and this is awesome\n",
            "A string\n",
            "A string is just fine and this is awesomeA string is just fine and this is awesome\n",
            "['A', 'string', 'is', 'just', 'fine', 'and', 'this', 'is', 'awesome']\n",
            "['A string ', ' just fine and th', ' ', ' awesome']\n"
          ]
        }
      ]
    },
    {
      "cell_type": "code",
      "metadata": {
        "colab": {
          "base_uri": "https://localhost:8080/"
        },
        "id": "EjwJV2QtzEce",
        "outputId": "d2b0c7f2-e1cd-4f07-df75-19fa1ddbab5e"
      },
      "source": [
        "\n",
        "#Return the index of the initial position of the string/caracter \n",
        "#that you want to search for within the \"str\"\n",
        "print(string.find('a'))\n",
        "\n",
        "\n",
        "#Replace a string within a string and replace with another string\n",
        "print(string.replace(\"and\", \"but\"))"
      ],
      "execution_count": null,
      "outputs": [
        {
          "output_type": "stream",
          "name": "stdout",
          "text": [
            "22\n",
            "A string is just fine but this is awesome\n"
          ]
        }
      ]
    },
    {
      "cell_type": "code",
      "metadata": {
        "colab": {
          "base_uri": "https://localhost:8080/"
        },
        "id": "rdwQMi6m1-5F",
        "outputId": "b5c125f8-ff83-4eca-e32c-fc5b8c2f83bd"
      },
      "source": [
        "#PY04 - LIST\n",
        "\n",
        "my_list = ['one','two',3,4]\n",
        "print(my_list[:2])\n",
        "\n"
      ],
      "execution_count": null,
      "outputs": [
        {
          "output_type": "stream",
          "name": "stdout",
          "text": [
            "['one', 'two']\n"
          ]
        }
      ]
    },
    {
      "cell_type": "code",
      "metadata": {
        "colab": {
          "base_uri": "https://localhost:8080/"
        },
        "id": "8NxXPh0K27oL",
        "outputId": "38f7457b-bd15-41a6-8c85-156f6be32096"
      },
      "source": [
        "\n",
        "my_list = my_list + ['No WAY!']\n",
        "print(my_list )"
      ],
      "execution_count": null,
      "outputs": [
        {
          "output_type": "stream",
          "name": "stdout",
          "text": [
            "['one', 'two', 3, 4, 'No WAY!']\n"
          ]
        }
      ]
    },
    {
      "cell_type": "code",
      "metadata": {
        "colab": {
          "base_uri": "https://localhost:8080/"
        },
        "id": "kqtaQgB_3FNc",
        "outputId": "fae6e78d-6173-4256-ac6d-c0a782ba52eb"
      },
      "source": [
        "#List operations\n",
        "\n",
        "list_t = [12, 55]\n",
        "list_t.append('This not so impressive tho')\n",
        "print(list_t)\n",
        "\n",
        "#Delete from the end\n",
        "list_t.pop()\n",
        "print(list_t)\n",
        "\n",
        "#Delete from the beginning\n",
        "list_t.pop(0)\n",
        "print(list_t)\n"
      ],
      "execution_count": null,
      "outputs": [
        {
          "output_type": "stream",
          "name": "stdout",
          "text": [
            "[12, 55, 'This not so impressive tho']\n",
            "[12, 55]\n",
            "[55]\n"
          ]
        }
      ]
    },
    {
      "cell_type": "code",
      "metadata": {
        "colab": {
          "base_uri": "https://localhost:8080/"
        },
        "id": "c6veZL6R4p-y",
        "outputId": "650e7230-c2c7-4878-fcf0-25d8f9122c00"
      },
      "source": [
        "new_list = ['F','A','N','G']\n",
        "\n",
        "#Put the list in a reverse order\n",
        "new_list.reverse()\n",
        "print(new_list)\n",
        "\n",
        "#Put the list in alphabetic order\n",
        "new_list.sort()\n",
        "\n",
        "print(new_list)"
      ],
      "execution_count": null,
      "outputs": [
        {
          "output_type": "stream",
          "name": "stdout",
          "text": [
            "['G', 'N', 'A', 'F']\n",
            "['A', 'F', 'G', 'N']\n"
          ]
        }
      ]
    },
    {
      "cell_type": "code",
      "metadata": {
        "id": "DQKJNKE97k0T",
        "colab": {
          "base_uri": "https://localhost:8080/"
        },
        "outputId": "c55ad3be-2eb5-4a54-8aa8-17f499eb47c4"
      },
      "source": [
        "#PY05 - Casting (Converting types)\n",
        "\n",
        "var = '30000'\n",
        "print(var)\n",
        "print(type(var))\n",
        "\n",
        "var2 = int(var)\n",
        "\n",
        "print(var2)\n",
        "print(type(var2))"
      ],
      "execution_count": null,
      "outputs": [
        {
          "output_type": "stream",
          "name": "stdout",
          "text": [
            "30000\n",
            "<class 'str'>\n",
            "30000\n",
            "<class 'int'>\n"
          ]
        }
      ]
    },
    {
      "cell_type": "code",
      "metadata": {
        "colab": {
          "base_uri": "https://localhost:8080/"
        },
        "id": "f5n6CG9O8y7G",
        "outputId": "9d1dad84-9714-4fc0-f5ba-17b4aef9aaf7"
      },
      "source": [
        "number = 360000\n",
        "\n",
        "print(number)\n",
        "print(type(number))\n",
        "\n",
        "no_number =  str(number)\n",
        "\n",
        "print(no_number)\n",
        "print(type(no_number))\n",
        "\n"
      ],
      "execution_count": null,
      "outputs": [
        {
          "output_type": "stream",
          "name": "stdout",
          "text": [
            "360000\n",
            "<class 'int'>\n",
            "360000\n",
            "<class 'str'>\n"
          ]
        }
      ]
    },
    {
      "cell_type": "code",
      "metadata": {
        "colab": {
          "base_uri": "https://localhost:8080/"
        },
        "id": "2OCXlUnq-ooi",
        "outputId": "ab028fa1-440e-4323-fde2-4ec528269b97"
      },
      "source": [
        "#PY05 - Inputs in Python\n",
        "\n",
        "paycheck = float(input('Enter with the paycheck you want to get monthly: '))\n",
        "print(f'The type of the paycheck var is : {type(paycheck)}')\n",
        "print(\"Congrats! your new paycheck is \", paycheck * 0.85)\n"
      ],
      "execution_count": null,
      "outputs": [
        {
          "output_type": "stream",
          "name": "stdout",
          "text": [
            "Enter with the paycheck you want to get monthly: 30000\n",
            "The type of the paycheck var is : <class 'float'>\n",
            "Congrats! your new paycheck is  25500.0\n"
          ]
        }
      ]
    },
    {
      "cell_type": "code",
      "metadata": {
        "colab": {
          "base_uri": "https://localhost:8080/"
        },
        "id": "-Y2SgxqyAmCB",
        "outputId": "114ed419-9ce5-4649-920c-eb3e9822f573"
      },
      "source": [
        "total = 0.0\n",
        "end = True\n",
        "while end:\n",
        "  item = float(input(\"Type the price of the first item \"))\n",
        "  total += item\n",
        "  answer = input(\"Are you still buying? (y/n)\")\n",
        "  print(answer)\n",
        "  if answer == 'y':\n",
        "    end = True\n",
        "  elif answer == 'n':\n",
        "    end = False\n",
        "    \n",
        "\n",
        "\n",
        "print(\"Total: \", total)"
      ],
      "execution_count": null,
      "outputs": [
        {
          "output_type": "stream",
          "name": "stdout",
          "text": [
            "Type the price of the first item 54\n",
            "Are you still buying? (y/n)y\n",
            "y\n",
            "Type the price of the first item 3213\n",
            "Are you still buying? (y/n)y\n",
            "y\n",
            "Type the price of the first item 9.98\n",
            "Are you still buying? (y/n)n\n",
            "n\n",
            "Total:  3276.98\n"
          ]
        }
      ]
    },
    {
      "cell_type": "markdown",
      "metadata": {
        "id": "1y30i2ciEfcX"
      },
      "source": [
        "## Dictionary - PY06\n",
        "\n",
        "It holds key and values pairs"
      ]
    },
    {
      "cell_type": "code",
      "metadata": {
        "colab": {
          "base_uri": "https://localhost:8080/"
        },
        "id": "kRcszZAxEkBJ",
        "outputId": "118a0e67-56b9-45f7-a59b-f3bfe49127dc"
      },
      "source": [
        "#Keys here are the names and values are the paycheck\n",
        "dict_employers = {\n",
        "    'Robert': {\n",
        "               'paycheck': 4000,\n",
        "               'networth': 100000,\n",
        "               'reason': 'worked'\n",
        "              }, \n",
        "    'MacKenzie Scott': {\n",
        "                        'networth':620000000000,\n",
        "                        'reason': 'divorce'\n",
        "                        },\n",
        "    } \n",
        "print(dict_employers['MacKenzie Scott'])\n",
        "print(dict_employers['MacKenzie Scott']['networth'])\n",
        "dict_employers['Robert']['paycheck'] = 5000\n",
        "print(dict_employers['Robert'])  #Updating existing entry\n",
        "print(\"\\n------------LIST OF EMPLOYERS----------\\n\")\n",
        "for emp in dict_employers:\n",
        "  print(f'{emp} -> {dict_employers[emp]}')\n",
        "\n",
        "print(\"----------------------\\n\")\n",
        "\n",
        "#Adding new entry to the dict\n",
        "dict_employers['Bezos'] = {\n",
        "                            'networth': 2140000000000000000000000\n",
        "                        }\n",
        "print(dict_employers)"
      ],
      "execution_count": null,
      "outputs": [
        {
          "output_type": "stream",
          "name": "stdout",
          "text": [
            "{'networth': 620000000000, 'reason': 'divorce'}\n",
            "620000000000\n",
            "{'paycheck': 5000, 'networth': 100000, 'reason': 'worked'}\n",
            "\n",
            "------------LIST OF EMPLOYERS----------\n",
            "\n",
            "Robert -> {'paycheck': 5000, 'networth': 100000, 'reason': 'worked'}\n",
            "MacKenzie Scott -> {'networth': 620000000000, 'reason': 'divorce'}\n",
            "----------------------\n",
            "\n",
            "{'Robert': {'paycheck': 5000, 'networth': 100000, 'reason': 'worked'}, 'MacKenzie Scott': {'networth': 620000000000, 'reason': 'divorce'}, 'Bezos': {'networth': 2140000000000000000000000}}\n"
          ]
        }
      ]
    },
    {
      "cell_type": "code",
      "metadata": {
        "colab": {
          "base_uri": "https://localhost:8080/"
        },
        "id": "98Xzw0kRQj8-",
        "outputId": "3c2efd15-3f17-4fb5-f50b-eb0d022cff98"
      },
      "source": [
        "#Deleting key from the dict\n",
        "del dict_employers['Robert']\n",
        "\n",
        "\n",
        "print(dict_employers)\n"
      ],
      "execution_count": null,
      "outputs": [
        {
          "output_type": "stream",
          "name": "stdout",
          "text": [
            "{'MacKenzie Scott': {'networth': 620000000000, 'reason': 'divorce'}, 'Bezos': {'networth': 2140000000000000000000000}}\n"
          ]
        }
      ]
    },
    {
      "cell_type": "code",
      "metadata": {
        "colab": {
          "base_uri": "https://localhost:8080/"
        },
        "id": "bNw6RDzARaGS",
        "outputId": "b1225cc3-6b39-4744-d137-2f27f7fe109d"
      },
      "source": [
        "# To clear all the data \n",
        "\n",
        "dict_employers.clear()\n",
        "print(dict_employers) \n",
        "\n",
        "#Delete the entire dictionary\n",
        "del dict_employers\n"
      ],
      "execution_count": null,
      "outputs": [
        {
          "output_type": "stream",
          "name": "stdout",
          "text": [
            "{}\n"
          ]
        }
      ]
    },
    {
      "cell_type": "code",
      "metadata": {
        "colab": {
          "base_uri": "https://localhost:8080/"
        },
        "id": "089QcHrQR5B9",
        "outputId": "9f0c93ba-4aaf-4b79-f68e-d21d52fce56a"
      },
      "source": [
        "#Update existing data\n",
        " \n",
        "sampleDict = {\n",
        "    'emp1': {'name': 'Harper', 'Salary':10000},\n",
        "    'emp2': {'name': 'Ella', 'Salary': 4220},\n",
        "    'emp3': {'name': 'Alexa', 'Salary': 7000},\n",
        "    'emp4': {'name': 'Promise', 'Salary': 12000}\n",
        "}\n",
        "\n",
        "print(sampleDict['emp3'])\n",
        "\n",
        "sampleDict['emp3']['Salary'] = 8500\n",
        "\n",
        "print(sampleDict['emp3'])"
      ],
      "execution_count": null,
      "outputs": [
        {
          "output_type": "stream",
          "name": "stdout",
          "text": [
            "{'name': 'Alexa', 'Salary': 7000}\n",
            "{'name': 'Alexa', 'Salary': 8500}\n"
          ]
        }
      ]
    },
    {
      "cell_type": "markdown",
      "metadata": {
        "id": "B1h22C_AU-jy"
      },
      "source": [
        "## Date and Time - PY07"
      ]
    },
    {
      "cell_type": "code",
      "metadata": {
        "colab": {
          "base_uri": "https://localhost:8080/"
        },
        "id": "b7dH-0v-VTP2",
        "outputId": "d7203c01-a2f3-44c7-f18c-44135996a605"
      },
      "source": [
        "# !pip install datetime\n",
        "import datetime\n",
        "\n",
        "datetime_object = datetime.datetime.now()\n",
        "print(datetime_object) #Get the cloud datacenter time \n",
        "\n",
        "date_object = datetime.date.today()\n",
        "print(date_object)"
      ],
      "execution_count": 1,
      "outputs": [
        {
          "output_type": "stream",
          "name": "stdout",
          "text": [
            "2021-09-20 17:17:51.568734\n",
            "2021-09-20\n"
          ]
        }
      ]
    },
    {
      "cell_type": "code",
      "metadata": {
        "colab": {
          "base_uri": "https://localhost:8080/"
        },
        "id": "4c8vxHoLXi_s",
        "outputId": "59400b81-956d-4143-cc31-afaa1786598a"
      },
      "source": [
        "#Calendar\n",
        "\n",
        "import calendar \n",
        "\n",
        "yy = 2021\n",
        "mm = 1\n",
        "print(calendar.month(yy,mm))"
      ],
      "execution_count": null,
      "outputs": [
        {
          "output_type": "stream",
          "name": "stdout",
          "text": [
            "    January 2021\n",
            "Mo Tu We Th Fr Sa Su\n",
            "             1  2  3\n",
            " 4  5  6  7  8  9 10\n",
            "11 12 13 14 15 16 17\n",
            "18 19 20 21 22 23 24\n",
            "25 26 27 28 29 30 31\n",
            "\n"
          ]
        }
      ]
    },
    {
      "cell_type": "code",
      "metadata": {
        "colab": {
          "base_uri": "https://localhost:8080/"
        },
        "id": "ooL5awmnYf1H",
        "outputId": "f8828a32-5717-43f4-ea1a-84bcd796d22e"
      },
      "source": [
        "print(calendar.calendar(y y,2, 1, 2))"
      ],
      "execution_count": null,
      "outputs": [
        {
          "output_type": "stream",
          "name": "stdout",
          "text": [
            "                              2021\n",
            "\n",
            "      January               February               March\n",
            "Mo Tu We Th Fr Sa Su  Mo Tu We Th Fr Sa Su  Mo Tu We Th Fr Sa Su\n",
            "             1  2  3   1  2  3  4  5  6  7   1  2  3  4  5  6  7\n",
            " 4  5  6  7  8  9 10   8  9 10 11 12 13 14   8  9 10 11 12 13 14\n",
            "11 12 13 14 15 16 17  15 16 17 18 19 20 21  15 16 17 18 19 20 21\n",
            "18 19 20 21 22 23 24  22 23 24 25 26 27 28  22 23 24 25 26 27 28\n",
            "25 26 27 28 29 30 31                        29 30 31\n",
            "\n",
            "       April                  May                   June\n",
            "Mo Tu We Th Fr Sa Su  Mo Tu We Th Fr Sa Su  Mo Tu We Th Fr Sa Su\n",
            "          1  2  3  4                  1  2      1  2  3  4  5  6\n",
            " 5  6  7  8  9 10 11   3  4  5  6  7  8  9   7  8  9 10 11 12 13\n",
            "12 13 14 15 16 17 18  10 11 12 13 14 15 16  14 15 16 17 18 19 20\n",
            "19 20 21 22 23 24 25  17 18 19 20 21 22 23  21 22 23 24 25 26 27\n",
            "26 27 28 29 30        24 25 26 27 28 29 30  28 29 30\n",
            "                      31\n",
            "\n",
            "        July                 August              September\n",
            "Mo Tu We Th Fr Sa Su  Mo Tu We Th Fr Sa Su  Mo Tu We Th Fr Sa Su\n",
            "          1  2  3  4                     1         1  2  3  4  5\n",
            " 5  6  7  8  9 10 11   2  3  4  5  6  7  8   6  7  8  9 10 11 12\n",
            "12 13 14 15 16 17 18   9 10 11 12 13 14 15  13 14 15 16 17 18 19\n",
            "19 20 21 22 23 24 25  16 17 18 19 20 21 22  20 21 22 23 24 25 26\n",
            "26 27 28 29 30 31     23 24 25 26 27 28 29  27 28 29 30\n",
            "                      30 31\n",
            "\n",
            "      October               November              December\n",
            "Mo Tu We Th Fr Sa Su  Mo Tu We Th Fr Sa Su  Mo Tu We Th Fr Sa Su\n",
            "             1  2  3   1  2  3  4  5  6  7         1  2  3  4  5\n",
            " 4  5  6  7  8  9 10   8  9 10 11 12 13 14   6  7  8  9 10 11 12\n",
            "11 12 13 14 15 16 17  15 16 17 18 19 20 21  13 14 15 16 17 18 19\n",
            "18 19 20 21 22 23 24  22 23 24 25 26 27 28  20 21 22 23 24 25 26\n",
            "25 26 27 28 29 30 31  29 30                 27 28 29 30 31\n",
            "\n"
          ]
        }
      ]
    },
    {
      "cell_type": "code",
      "metadata": {
        "colab": {
          "base_uri": "https://localhost:8080/"
        },
        "id": "XJMxMkvepfYH",
        "outputId": "82ab1a73-60e3-4444-9134-a1558c2e6baa"
      },
      "source": [
        "#PY10 - Random function\n",
        "import random \n",
        "print(random.randint(3,300))\n",
        "\n",
        "print(random.randrange(3,1000))"
      ],
      "execution_count": null,
      "outputs": [
        {
          "output_type": "stream",
          "name": "stdout",
          "text": [
            "223\n",
            "38\n"
          ]
        }
      ]
    },
    {
      "cell_type": "code",
      "metadata": {
        "colab": {
          "base_uri": "https://localhost:8080/"
        },
        "id": "tZSGnwQSq6bh",
        "outputId": "951cb6f2-8cde-4c27-d2d2-f49d4aab129f"
      },
      "source": [
        "#PY11 - Python Math\n",
        "\n",
        "import math \n",
        "\n",
        "x = math.sqrt(25)\n",
        "print(x)\n",
        "\n",
        "x = math.ceil(1.3) \n",
        "y = math.floor(1.3)\n",
        "\n",
        "print(x)\n",
        "print(y)"
      ],
      "execution_count": null,
      "outputs": [
        {
          "output_type": "stream",
          "name": "stdout",
          "text": [
            "5.0\n",
            "2\n",
            "1\n"
          ]
        }
      ]
    },
    {
      "cell_type": "code",
      "metadata": {
        "colab": {
          "base_uri": "https://localhost:8080/"
        },
        "id": "esKRx1ICrlrW",
        "outputId": "4b36d8ed-1ef0-4c45-8059-179c611e1595"
      },
      "source": [
        "x = math.pi \n",
        "print(x)\n",
        "\n",
        "#Find the min val\n",
        "x = min(5,23,44)\n",
        "print(x)\n",
        "\n",
        "#Find the max val\n",
        "x = max(4,5,44)\n",
        "print(x)"
      ],
      "execution_count": null,
      "outputs": [
        {
          "output_type": "stream",
          "name": "stdout",
          "text": [
            "3.141592653589793\n",
            "5\n",
            "44\n"
          ]
        }
      ]
    },
    {
      "cell_type": "code",
      "metadata": {
        "colab": {
          "base_uri": "https://localhost:8080/"
        },
        "id": "rmYTBfy9wL6-",
        "outputId": "2d1a8344-83ac-4e16-d1dd-e880822930ff"
      },
      "source": [
        "# PY12 - OOP\n",
        "\n",
        "#Employee\n",
        "\n",
        "class Employee:\n",
        "  empCount = 0 #Var of the class\n",
        "\n",
        "  def __init__(self, name, salary):\n",
        "    self.name = name\n",
        "    self.salary = salary \n",
        "    Employee.empCount += 1\n",
        "\n",
        "  def displaycount(self):\n",
        "    print(\"Total employee %d \" %Employee.empCount)\n",
        "\n",
        "  def displayEmployee(self):\n",
        "    print(f'Name {self.name}, Salary {self.salary}')\n",
        "\n",
        "\n",
        "#Instatiating object from the class Employee\n",
        "\n",
        "emp1 = Employee(\"Jack\", 6000)\n",
        "\n",
        "emp1.displaycount()\n",
        "emp1.displayEmployee()\n",
        "\n",
        "emp2 = Employee(\"John\", 5454)\n",
        "emp2.displaycount()\n",
        "emp2.displayEmployee()\n",
        "\n",
        "\n",
        "\n",
        "\n",
        " "
      ],
      "execution_count": null,
      "outputs": [
        {
          "output_type": "stream",
          "name": "stdout",
          "text": [
            "Total employee 1 \n",
            "Name Jack, Salary 6000\n",
            "Total employee 2 \n",
            "Name John, Salary 5454\n"
          ]
        }
      ]
    },
    {
      "cell_type": "code",
      "metadata": {
        "colab": {
          "base_uri": "https://localhost:8080/"
        },
        "id": "L_uiMu2xylGx",
        "outputId": "9b6e72af-c65c-4c67-e4e2-06cbefbf51de"
      },
      "source": [
        "#PY13 - \n",
        "\n",
        "class Vehicle:\n",
        "\n",
        "  def __init__(self, max_speed, milage):\n",
        "    self.max_speed = max_speed\n",
        "    self.milage = milage\n",
        "\n",
        "\n",
        "\n",
        "modelX = Vehicle(240, 18)\n",
        "print(modelX.max_speed, modelX.milage)"
      ],
      "execution_count": null,
      "outputs": [
        {
          "output_type": "stream",
          "name": "stdout",
          "text": [
            "240 18\n"
          ]
        }
      ]
    },
    {
      "cell_type": "code",
      "metadata": {
        "colab": {
          "base_uri": "https://localhost:8080/"
        },
        "id": "etMVHauPzV9Y",
        "outputId": "3d89e87c-65f8-4016-bce0-ba88bcd821fa"
      },
      "source": [
        "class Circle:\n",
        "  pi = 3.14\n",
        "\n",
        "  def __init__(self, radius=1):\n",
        "    self.radius = radius\n",
        "    self.area = radius*radius*Circle.pi\n",
        "\n",
        "  def setRadius(self,new_radius):\n",
        "    self.radius = new_radius\n",
        "    self.area = new_radius*new_radius*self.pi\n",
        "\n",
        "  def getCircumference(self):\n",
        "    return self.radius*self.pi*2\n",
        "\n",
        "#Instatiate a object from the Circle class:\n",
        "\n",
        "c = Circle( )\n",
        "print(\"Radius is \", c.radius)\n",
        "print(\"Area is \", c.area)"
      ],
      "execution_count": null,
      "outputs": [
        {
          "output_type": "stream",
          "name": "stdout",
          "text": [
            "Radius is  1\n",
            "Area is  3.14\n"
          ]
        }
      ]
    },
    {
      "cell_type": "markdown",
      "metadata": {
        "id": "xcwN9BSw03rq"
      },
      "source": [
        "## Inheritance - PY14"
      ]
    },
    {
      "cell_type": "code",
      "metadata": {
        "colab": {
          "base_uri": "https://localhost:8080/"
        },
        "id": "MIFQ1rP-0-Va",
        "outputId": "974b9f58-6b00-4c31-efe2-054700eb2640"
      },
      "source": [
        "#Animal -> dog, cat\n",
        "#Vechicle -> car, van\n",
        "\n",
        "class Animal:\n",
        "  def __init__(self):\n",
        "    print(\"Animal was born\")\n",
        "\n",
        "  def whoAmI(self):\n",
        "    print(\"Animal\")\n",
        "\n",
        "  def eat(self):\n",
        "    print(\"Eating...\") \n",
        "\n",
        "#Dog inherits the Animal class\n",
        "class Dog(Animal):\n",
        "  def __init__(self):\n",
        "    #super().__init__()\n",
        "    Animal.__init__(self)\n",
        "    print(\"Dog was born\")\n",
        "  \n",
        "  def whoAmI(self):\n",
        "    print(\"Dog\")\n",
        "\n",
        "  def bark(self):\n",
        "    print(\"Wooof !!\")\n",
        "\n",
        "#Instatiate Dog object\n",
        "\n",
        "d = Dog()\n",
        "\n",
        "d.whoAmI() \n",
        "d.eat()\n",
        "d.bark()\n"
      ],
      "execution_count": null,
      "outputs": [
        {
          "output_type": "stream",
          "name": "stdout",
          "text": [
            "Animal was born\n",
            "Dog was born\n",
            "Dog\n",
            "Eating...\n",
            "Wooof !!\n"
          ]
        }
      ]
    },
    {
      "cell_type": "code",
      "metadata": {
        "colab": {
          "base_uri": "https://localhost:8080/"
        },
        "id": "36IaEqi06aj4",
        "outputId": "c11b2c48-71d1-4303-def6-2519871eb7e8"
      },
      "source": [
        "#Parent class or Superclass\n",
        "class Bird:\n",
        "  def __init__(self):\n",
        "    print(\"Bird is ready to go\")\n",
        "\n",
        "  def whoIsThis(self):\n",
        "    print(\"Bird\")\n",
        "\n",
        "  def swim(self):\n",
        "    print(\"Swim faster\")\n",
        "\n",
        "\n",
        "#Child Class or Subclass\n",
        "\n",
        "class Penguin(Bird):\n",
        "\n",
        "  def __init__(self):\n",
        "    super().__init__()\n",
        "    print(\"Penguin is ready\")\n",
        "\n",
        "  def whoIsThis(self):\n",
        "    print(\"Penguin\")\n",
        "\n",
        "  def run(self):\n",
        "    print(\"Run faster\")\n",
        "\n",
        "#Instatiate Peguin object \n",
        "\n",
        "p = Penguin()\n",
        "\n",
        "p.whoIsThis()\n",
        "p.run()\n",
        "p.swim()\n",
        "\n",
        "  \n"
      ],
      "execution_count": null,
      "outputs": [
        {
          "output_type": "stream",
          "name": "stdout",
          "text": [
            "Bird is ready to go\n",
            "Penguin is ready\n",
            "Penguin\n",
            "Run faster\n",
            "Swim faster\n"
          ]
        }
      ]
    },
    {
      "cell_type": "markdown",
      "metadata": {
        "id": "X5_XfzaMP5nj"
      },
      "source": [
        "## Handling Errors"
      ]
    },
    {
      "cell_type": "code",
      "metadata": {
        "colab": {
          "base_uri": "https://localhost:8080/"
        },
        "id": "jOnjqZGNP98h",
        "outputId": "23ff8245-fe75-4012-8b12-05652cfa8bdb"
      },
      "source": [
        "try:\n",
        "  x = int(input(\"Please enter a number: \"))\n",
        "  y = 100 / x\n",
        "except ZeroDivisionError:\n",
        "  print('Error: 0 is a invalid number to make the division')\n",
        "except ValueError:\n",
        "  print('Error: there was an error (probably the input format)')\n",
        "except Exception:\n",
        "  print('Error: another error occurred')\n",
        "finally:\n",
        "  print(\"Cleanup can go here\")"
      ],
      "execution_count": 12,
      "outputs": [
        {
          "output_type": "stream",
          "name": "stdout",
          "text": [
            "Please enter a number: %\n",
            "Error: there was an error (probably the input format)\n",
            "Cleanup can go here\n"
          ]
        }
      ]
    },
    {
      "cell_type": "code",
      "metadata": {
        "colab": {
          "base_uri": "https://localhost:8080/"
        },
        "id": "wRK3t8D8SbFY",
        "outputId": "10129f63-df56-4f44-ae92-2a419b084814"
      },
      "source": [
        "#Raising Exceptions\n",
        "\n",
        "try:\n",
        "    x = int(input(\"Please enter a number: \"))\n",
        "    y = 100 / x\n",
        "except ValueError:\n",
        "    print(\"Error: there was an error\")\n",
        "except ZeroDivisionError:\n",
        "    print(\"Error: 0 is an invalid number\")\n",
        "except Exception:\n",
        "  raise"
      ],
      "execution_count": 14,
      "outputs": [
        {
          "name": "stdout",
          "output_type": "stream",
          "text": [
            "Please enter a number: 1\n"
          ]
        }
      ]
    },
    {
      "cell_type": "code",
      "metadata": {
        "colab": {
          "base_uri": "https://localhost:8080/",
          "height": 182
        },
        "id": "9H3qrfJWTRP8",
        "outputId": "982e8fdf-5b61-4b31-8576-9e4dc816b169"
      },
      "source": [
        "a = 20\n",
        "assert a < 10, \"something went wrong\""
      ],
      "execution_count": 17,
      "outputs": [
        {
          "output_type": "error",
          "ename": "AssertionError",
          "evalue": "ignored",
          "traceback": [
            "\u001b[0;31m---------------------------------------------------------------------------\u001b[0m",
            "\u001b[0;31mAssertionError\u001b[0m                            Traceback (most recent call last)",
            "\u001b[0;32m<ipython-input-17-85e92c019729>\u001b[0m in \u001b[0;36m<module>\u001b[0;34m()\u001b[0m\n\u001b[1;32m      1\u001b[0m \u001b[0ma\u001b[0m \u001b[0;34m=\u001b[0m \u001b[0;36m20\u001b[0m\u001b[0;34m\u001b[0m\u001b[0;34m\u001b[0m\u001b[0m\n\u001b[0;32m----> 2\u001b[0;31m \u001b[0;32massert\u001b[0m \u001b[0ma\u001b[0m \u001b[0;34m<\u001b[0m \u001b[0;36m10\u001b[0m\u001b[0;34m,\u001b[0m \u001b[0;34m\"something went wrong\"\u001b[0m\u001b[0;34m\u001b[0m\u001b[0;34m\u001b[0m\u001b[0m\n\u001b[0m",
            "\u001b[0;31mAssertionError\u001b[0m: something went wrong"
          ]
        }
      ]
    },
    {
      "cell_type": "markdown",
      "metadata": {
        "id": "TUu8HUgFUBlO"
      },
      "source": [
        "## File handling PY17"
      ]
    },
    {
      "cell_type": "code",
      "metadata": {
        "colab": {
          "base_uri": "https://localhost:8080/"
        },
        "id": "jhhDv0SDUX_7",
        "outputId": "040745c0-7bdb-41cb-a517-3289e681d482"
      },
      "source": [
        "# Write in file\n",
        "def writefile():\n",
        "    with open(\"abc.txt\", 'w', encoding='utf-8') as f:\n",
        "        f.write(\"My first file. \\n\")\n",
        "        f.write(\"This file \\n\")\n",
        "        f.write(\"contains 3 lines \\n\")\n",
        "\n",
        "\n",
        "# Read file\n",
        "def readfile():\n",
        "    f = open('abc.txt', 'r', encoding='utf-8')\n",
        "    print(f.read())\n",
        "\n",
        "\n",
        "if __name__ == '__main__':\n",
        "    writefile()\n",
        "    readfile()\n"
      ],
      "execution_count": 32,
      "outputs": [
        {
          "output_type": "stream",
          "name": "stdout",
          "text": [
            "My first file. \n",
            "This file \n",
            "contains 3 lines \n",
            "\n"
          ]
        }
      ]
    }
  ]
}