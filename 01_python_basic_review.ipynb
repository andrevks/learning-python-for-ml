{
  "nbformat": 4,
  "nbformat_minor": 0,
  "metadata": {
    "colab": {
      "name": "01-python-basic-review.ipynb",
      "provenance": [],
      "collapsed_sections": [
        "-AS1tkhUd0Y5",
        "ydg89Xz9ufDf"
      ],
      "authorship_tag": "ABX9TyNZpZV5voaCucmsVr31Ptxn"
    },
    "kernelspec": {
      "name": "python3",
      "display_name": "Python 3"
    },
    "language_info": {
      "name": "python"
    }
  },
  "cells": [
    {
      "cell_type": "markdown",
      "metadata": {
        "id": "-AS1tkhUd0Y5"
      },
      "source": [
        "# Working With JSON \n",
        "\n",
        "1 - Create an address book and write some records into it\n",
        "\n",
        "2 - Read the address book\n"
      ]
    },
    {
      "cell_type": "code",
      "metadata": {
        "id": "-am8F_23d7v-"
      },
      "source": [
        "#Creating a dict to represent JSON\n",
        "book = {}\n",
        "book['tim'] = {\n",
        "    'name': 'Tim Ferris',\n",
        "    'address': '34 black street, NY',\n",
        "    'phone': 9823423\n",
        "}\n",
        "\n",
        "book['jack'] = {\n",
        "    'name': 'BoJack Horseman',\n",
        "    'address': '23 pink street, NY',\n",
        "    'phone': 9665623\n",
        "}\n",
        "\n",
        "\n",
        "import json \n",
        "#Taking the dictionary object called book as a input\n",
        "#Then it's dumping it as a string and converting to json format\n",
        "s = json.dumps(book)\n",
        "#{\"tim\": {\"name\": \"Tim Ferris\", \"address\": \"34 black street, NY\", \"phone\": 9823423}, \"jack\": {\"name\": \"BoJack Horseman\", \"address\": \"23 pink street, NY\", \"phone\": 9665623}}\n",
        "\n",
        "with open(\"book.txt\", \"w\") as f:\n",
        "  f.write(s)"
      ],
      "execution_count": 24,
      "outputs": []
    },
    {
      "cell_type": "code",
      "metadata": {
        "colab": {
          "base_uri": "https://localhost:8080/"
        },
        "id": "flfJGh8khmg6",
        "outputId": "349a229b-651c-4b81-9a00-a395b81cebc1"
      },
      "source": [
        "#Reading the JSON book.txt\n",
        "f = open(\"book.txt\",\"r\")\n",
        "s = f.read() ## It's a string\n",
        "print(s)\n",
        "print(\"Type of Book before: \", type(s))\n",
        "\n",
        "book_dict = json.loads(s) #Converting to the dictionary format  \n",
        "print(book)\n",
        "print(f'Type of Book: {type(book_dict)}')\n",
        "print(\"Jack: \")\n",
        "print(book_dict['jack'])\n",
        "print(book_dict['jack']['phone'])\n",
        "\n",
        "print(\"All people in the book\")\n",
        "\n",
        "for person in book_dict:\n",
        "  print(book_dict[person])"
      ],
      "execution_count": 25,
      "outputs": [
        {
          "output_type": "stream",
          "name": "stdout",
          "text": [
            "{\"tim\": {\"name\": \"Tim Ferris\", \"address\": \"34 black street, NY\", \"phone\": 9823423}, \"jack\": {\"name\": \"BoJack Horseman\", \"address\": \"23 pink street, NY\", \"phone\": 9665623}}\n",
            "Type of Book before:  <class 'str'>\n",
            "{'tim': {'name': 'Tim Ferris', 'address': '34 black street, NY', 'phone': 9823423}, 'jack': {'name': 'BoJack Horseman', 'address': '23 pink street, NY', 'phone': 9665623}}\n",
            "Type of Book: <class 'dict'>\n",
            "Jack: \n",
            "{'name': 'BoJack Horseman', 'address': '23 pink street, NY', 'phone': 9665623}\n",
            "9665623\n",
            "All people in the book\n",
            "{'name': 'Tim Ferris', 'address': '34 black street, NY', 'phone': 9823423}\n",
            "{'name': 'BoJack Horseman', 'address': '23 pink street, NY', 'phone': 9665623}\n"
          ]
        }
      ]
    },
    {
      "cell_type": "markdown",
      "metadata": {
        "id": "ydg89Xz9ufDf"
      },
      "source": [
        "# if _ _name_ _ == \"__main__\""
      ]
    },
    {
      "cell_type": "code",
      "metadata": {
        "colab": {
          "base_uri": "https://localhost:8080/",
          "height": 35
        },
        "id": "LFHXUA4jo1bc",
        "outputId": "dd3ef22e-bd16-466a-b6b5-64b6ea7f539d"
      },
      "source": [
        "#It's a predefined variable in python\n",
        "__name__"
      ],
      "execution_count": 28,
      "outputs": [
        {
          "output_type": "execute_result",
          "data": {
            "application/vnd.google.colaboratory.intrinsic+json": {
              "type": "string"
            },
            "text/plain": [
              "'__main__'"
            ]
          },
          "metadata": {},
          "execution_count": 28
        }
      ]
    },
    {
      "cell_type": "code",
      "metadata": {
        "colab": {
          "base_uri": "https://localhost:8080/"
        },
        "id": "cQjTnKhBpDbF",
        "outputId": "81927fb0-afde-4fd2-f1ad-88fd8edb2828"
      },
      "source": [
        "#Instead of using a main() function as an entry point as in other programming languages\n",
        "#We can do like this:\n",
        "\n",
        "if __name__ == \"__main__\":\n",
        "  print('That\\'s pretty nice, Python is awesome !')"
      ],
      "execution_count": 29,
      "outputs": [
        {
          "output_type": "stream",
          "name": "stdout",
          "text": [
            "That's pretty nice, Python is awesome !\n"
          ]
        }
      ]
    },
    {
      "cell_type": "code",
      "metadata": {
        "colab": {
          "base_uri": "https://localhost:8080/"
        },
        "id": "WD3ZS5_WtVgw",
        "outputId": "2cca5ee0-634b-4596-8d54-e1a7fef51ce9"
      },
      "source": [
        "#It changes when the module is imported though:\n",
        "\n",
        "# Suppose you have a python program called **area.py**\n",
        "\n",
        "# In **area.py**:\n",
        "\n",
        "def calc_area(base, height):\n",
        "  print(\"__name__: \", __name__)\n",
        "  return 1/2 * (base*height)\n",
        "\n",
        "if __name__ == \"__main__\":\n",
        "    print(\"I am in area.py\")\n",
        "    a = calc_area(10, 20)\n",
        "    print(\"area: \", a)\n",
        "\n",
        "# When you run it the result is that the name is **__main__** when executed in this file"
      ],
      "execution_count": 36,
      "outputs": [
        {
          "output_type": "stream",
          "name": "stdout",
          "text": [
            "I am in area.py\n",
            "__name__:  __main__\n",
            "area:  100.0\n"
          ]
        }
      ]
    },
    {
      "cell_type": "code",
      "metadata": {
        "colab": {
          "base_uri": "https://localhost:8080/"
        },
        "id": "rzfvDJ22tdzz",
        "outputId": "3ca28d73-667c-4864-d3b3-b24c114af1df"
      },
      "source": [
        "\n",
        "# However, suppose you have other python program called **caller.py**\n",
        "\n",
        "# In caller.py:\n",
        "\n",
        "# import area\n",
        "print(\"I'm in caller.py\")\n",
        "# area.calc_area(5,10)\n",
        "print(\"__name__:  __area__\")\n",
        "\n",
        "# The value of name here is **__area__** instead of __main__, so it's the name of the module that was imported\n",
        "\n"
      ],
      "execution_count": 35,
      "outputs": [
        {
          "output_type": "stream",
          "name": "stdout",
          "text": [
            "I'm in caller.py\n",
            "__name__:  __area__\n"
          ]
        }
      ]
    }
  ]
}