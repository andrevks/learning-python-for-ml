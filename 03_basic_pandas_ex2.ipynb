{
  "nbformat": 4,
  "nbformat_minor": 0,
  "metadata": {
    "kernelspec": {
      "display_name": "Python 3",
      "language": "python",
      "name": "python3"
    },
    "language_info": {
      "codemirror_mode": {
        "name": "ipython",
        "version": 3
      },
      "file_extension": ".py",
      "mimetype": "text/x-python",
      "name": "python",
      "nbconvert_exporter": "python",
      "pygments_lexer": "ipython3",
      "version": "3.7.4"
    },
    "colab": {
      "name": "03-basic-pandas-ex2.ipynb",
      "provenance": [],
      "collapsed_sections": [],
      "include_colab_link": true
    }
  },
  "cells": [
    {
      "cell_type": "markdown",
      "metadata": {
        "id": "view-in-github",
        "colab_type": "text"
      },
      "source": [
        "<a href=\"https://colab.research.google.com/github/andrevks/learning-python-for-ml/blob/main/03_basic_pandas_ex2.ipynb\" target=\"_parent\"><img src=\"https://colab.research.google.com/assets/colab-badge.svg\" alt=\"Open In Colab\"/></a>"
      ]
    },
    {
      "cell_type": "code",
      "metadata": {
        "id": "f0eTG4ejpvch"
      },
      "source": [
        "import pandas as pd\n",
        "import numpy as np"
      ],
      "execution_count": null,
      "outputs": []
    },
    {
      "cell_type": "code",
      "metadata": {
        "colab": {
          "base_uri": "https://localhost:8080/"
        },
        "id": "tVaFO0Jzpvcn",
        "outputId": "60231ceb-ad2c-4515-bb57-3fc81f477f96"
      },
      "source": [
        "#Series datatype used in timeseries data\n",
        "\n",
        "data = np.array(['a','b','c','d'])\n",
        "\n",
        "#Create series data:\n",
        "\n",
        "s2 = pd.Series(data, index=[100,101,102,103])\n",
        "s2"
      ],
      "execution_count": null,
      "outputs": [
        {
          "output_type": "execute_result",
          "data": {
            "text/plain": [
              "100    a\n",
              "101    b\n",
              "102    c\n",
              "103    d\n",
              "dtype: object"
            ]
          },
          "metadata": {},
          "execution_count": 2
        }
      ]
    },
    {
      "cell_type": "code",
      "metadata": {
        "colab": {
          "base_uri": "https://localhost:8080/"
        },
        "id": "kOPzyR1mpvcp",
        "outputId": "df190cfe-7324-4d18-8766-46121cb5699b"
      },
      "source": [
        "#Another way to create Series data\n",
        "\n",
        "data2 = {'a': 0., 'b': 1., 'c': 2.}\n",
        "\n",
        "s2 = pd.Series(data2)\n",
        "print(s2)"
      ],
      "execution_count": null,
      "outputs": [
        {
          "output_type": "stream",
          "name": "stdout",
          "text": [
            "a    0.0\n",
            "b    1.0\n",
            "c    2.0\n",
            "dtype: float64\n"
          ]
        }
      ]
    },
    {
      "cell_type": "code",
      "metadata": {
        "colab": {
          "base_uri": "https://localhost:8080/"
        },
        "id": "OoyrjVGppvcq",
        "outputId": "5f770692-4816-4b1e-f9a8-0ae7b92b8099"
      },
      "source": [
        "#Dataframe \n",
        "\n",
        "data = {\n",
        "            'Name':['Tom','Jack','Steve','Ricky'],\n",
        "            'Age':[28,34,29,42]\n",
        "        }\n",
        "\n",
        "#Create a Dataframe:\n",
        "df = pd.DataFrame(data, index=['rank1','rank2','rank3','rank4'])\n",
        "print(df)"
      ],
      "execution_count": null,
      "outputs": [
        {
          "output_type": "stream",
          "name": "stdout",
          "text": [
            "        Name  Age\n",
            "rank1    Tom   28\n",
            "rank2   Jack   34\n",
            "rank3  Steve   29\n",
            "rank4  Ricky   42\n"
          ]
        }
      ]
    },
    {
      "cell_type": "code",
      "metadata": {
        "colab": {
          "base_uri": "https://localhost:8080/"
        },
        "id": "2rw_Mtv3pvcr",
        "outputId": "63d1703f-26fe-4ce6-b8ba-1e122add84d0"
      },
      "source": [
        "#Other ways to create a DataFrame\n",
        "\n",
        "#Dataframe from list of Dicts\n",
        "\n",
        "data = [{ 'a' : 1, 'b' : 2 },{ 'a' : 5 , 'b' : 10, 'c': 20 }]\n",
        "df = pd.DataFrame(data)\n",
        "print(df)"
      ],
      "execution_count": null,
      "outputs": [
        {
          "output_type": "stream",
          "name": "stdout",
          "text": [
            "   a   b     c\n",
            "0  1   2   NaN\n",
            "1  5  10  20.0\n"
          ]
        }
      ]
    },
    {
      "cell_type": "code",
      "metadata": {
        "colab": {
          "base_uri": "https://localhost:8080/"
        },
        "id": "_RX5T7TZpvcs",
        "outputId": "f557a6ba-a87b-417c-dde7-be61f1b94ced"
      },
      "source": [
        "#DataFrame from Series\n",
        "\n",
        "d = {\n",
        "        'one' : pd.Series([11, 21, 3], index=['a','b','c']),\n",
        "        'two' : pd.Series([1, 2, 3, 4], index= ['a','b','c','d'])\n",
        "    }\n",
        "\n",
        "df = pd.DataFrame(d)\n",
        "print(df)\n",
        "print('\\n')\n",
        "\n",
        "print(df['two'])\n",
        "print('\\n')\n",
        "\n",
        "print(df['one'])\n",
        "del df['one']\n",
        "\n",
        "print('\\nAfter deleting the ONE\\n')\n",
        "print(df)\n",
        "\n",
        "\n",
        "#Working with rows\n",
        "print('\\n---Working with rows:\\n')\n",
        "print (df.loc['b'])\n",
        "print('\\n')\n",
        "print (df.iloc[2]) #Especific Location\n",
        "print('\\n')\n",
        "print (df[0:2]) # End not included, so from 0 to 1"
      ],
      "execution_count": null,
      "outputs": [
        {
          "output_type": "stream",
          "name": "stdout",
          "text": [
            "    one  two\n",
            "a  11.0    1\n",
            "b  21.0    2\n",
            "c   3.0    3\n",
            "d   NaN    4\n",
            "\n",
            "\n",
            "a    1\n",
            "b    2\n",
            "c    3\n",
            "d    4\n",
            "Name: two, dtype: int64\n",
            "\n",
            "\n",
            "a    11.0\n",
            "b    21.0\n",
            "c     3.0\n",
            "d     NaN\n",
            "Name: one, dtype: float64\n",
            "\n",
            "After deleting the ONE\n",
            "\n",
            "   two\n",
            "a    1\n",
            "b    2\n",
            "c    3\n",
            "d    4\n",
            "\n",
            "---Working with rows:\n",
            "\n",
            "two    2\n",
            "Name: b, dtype: int64\n",
            "\n",
            "\n",
            "two    3\n",
            "Name: c, dtype: int64\n",
            "\n",
            "\n",
            "   two\n",
            "a    1\n",
            "b    2\n"
          ]
        }
      ]
    },
    {
      "cell_type": "code",
      "metadata": {
        "colab": {
          "base_uri": "https://localhost:8080/"
        },
        "id": "uqUQOfxipxdH",
        "outputId": "a16e78d3-2c87-42c5-ade8-517401a6fcd8"
      },
      "source": [
        "df7 = pd.read_csv('sample_data/california_housing_train.csv')\n",
        "\n",
        "print(df7)\n",
        "\n",
        "df8 = df7.head()\n",
        "\n",
        "print('\\n')\n",
        "print(df8)\n",
        "\n",
        "print('\\n')\n",
        "\n",
        "df9 = df7.describe()\n",
        "\n",
        "print(df9)\n",
        "\n",
        "print('\\n')\n",
        "print(df7['households'].dtype)\n",
        "\n",
        "df10 = df7['households']\n",
        "print(df10)"
      ],
      "execution_count": null,
      "outputs": [
        {
          "output_type": "stream",
          "name": "stdout",
          "text": [
            "       longitude  latitude  ...  median_income  median_house_value\n",
            "0        -114.31     34.19  ...         1.4936             66900.0\n",
            "1        -114.47     34.40  ...         1.8200             80100.0\n",
            "2        -114.56     33.69  ...         1.6509             85700.0\n",
            "3        -114.57     33.64  ...         3.1917             73400.0\n",
            "4        -114.57     33.57  ...         1.9250             65500.0\n",
            "...          ...       ...  ...            ...                 ...\n",
            "16995    -124.26     40.58  ...         2.3571            111400.0\n",
            "16996    -124.27     40.69  ...         2.5179             79000.0\n",
            "16997    -124.30     41.84  ...         3.0313            103600.0\n",
            "16998    -124.30     41.80  ...         1.9797             85800.0\n",
            "16999    -124.35     40.54  ...         3.0147             94600.0\n",
            "\n",
            "[17000 rows x 9 columns]\n",
            "\n",
            "\n",
            "   longitude  latitude  ...  median_income  median_house_value\n",
            "0    -114.31     34.19  ...         1.4936             66900.0\n",
            "1    -114.47     34.40  ...         1.8200             80100.0\n",
            "2    -114.56     33.69  ...         1.6509             85700.0\n",
            "3    -114.57     33.64  ...         3.1917             73400.0\n",
            "4    -114.57     33.57  ...         1.9250             65500.0\n",
            "\n",
            "[5 rows x 9 columns]\n",
            "\n",
            "\n",
            "          longitude      latitude  ...  median_income  median_house_value\n",
            "count  17000.000000  17000.000000  ...   17000.000000        17000.000000\n",
            "mean    -119.562108     35.625225  ...       3.883578       207300.912353\n",
            "std        2.005166      2.137340  ...       1.908157       115983.764387\n",
            "min     -124.350000     32.540000  ...       0.499900        14999.000000\n",
            "25%     -121.790000     33.930000  ...       2.566375       119400.000000\n",
            "50%     -118.490000     34.250000  ...       3.544600       180400.000000\n",
            "75%     -118.000000     37.720000  ...       4.767000       265000.000000\n",
            "max     -114.310000     41.950000  ...      15.000100       500001.000000\n",
            "\n",
            "[8 rows x 9 columns]\n",
            "\n",
            "\n",
            "float64\n",
            "0        472.0\n",
            "1        463.0\n",
            "2        117.0\n",
            "3        226.0\n",
            "4        262.0\n",
            "         ...  \n",
            "16995    369.0\n",
            "16996    465.0\n",
            "16997    456.0\n",
            "16998    478.0\n",
            "16999    270.0\n",
            "Name: households, Length: 17000, dtype: float64\n"
          ]
        }
      ]
    },
    {
      "cell_type": "code",
      "metadata": {
        "colab": {
          "base_uri": "https://localhost:8080/"
        },
        "id": "8ky5oVmIrPfQ",
        "outputId": "f73dd1b0-3971-41a0-bdf6-34a1675b0a66"
      },
      "source": [
        "unsorted_df = pd.DataFrame(\n",
        "                            np.random.randn(10,2),\n",
        "                            index=[1,4,6,2,3,5,9,8,0,7], \n",
        "                            columns=['col2','col1']\n",
        "                           )\n",
        "print(unsorted_df)\n",
        "\n",
        "\n",
        "sorted_df = unsorted_df.sort_index(axis=1)\n",
        "\n",
        "print('\\n')\n",
        "print(sorted_df)"
      ],
      "execution_count": null,
      "outputs": [
        {
          "output_type": "stream",
          "name": "stdout",
          "text": [
            "       col2      col1\n",
            "1 -0.029019  0.342115\n",
            "4  1.270037  0.707815\n",
            "6 -0.350973  0.523670\n",
            "2 -0.436123  0.039107\n",
            "3 -1.634493 -1.261539\n",
            "5 -0.112444 -0.765505\n",
            "9 -0.938600 -2.446475\n",
            "8  0.658065 -2.431121\n",
            "0  0.734693  0.061608\n",
            "7 -0.727495  0.256555\n",
            "\n",
            "\n",
            "       col1      col2\n",
            "1  0.342115 -0.029019\n",
            "4  0.707815  1.270037\n",
            "6  0.523670 -0.350973\n",
            "2  0.039107 -0.436123\n",
            "3 -1.261539 -1.634493\n",
            "5 -0.765505 -0.112444\n",
            "9 -2.446475 -0.938600\n",
            "8 -2.431121  0.658065\n",
            "0  0.061608  0.734693\n",
            "7  0.256555 -0.727495\n"
          ]
        }
      ]
    },
    {
      "cell_type": "code",
      "metadata": {
        "colab": {
          "base_uri": "https://localhost:8080/"
        },
        "id": "UqPuCsPtsIRK",
        "outputId": "aa04963a-fc75-43ba-f183-1625a41f1f0d"
      },
      "source": [
        "#Save to csv\n",
        "unsorted_df.to_csv('foo.csv')\n",
        "print(sorted_df)"
      ],
      "execution_count": null,
      "outputs": [
        {
          "output_type": "stream",
          "name": "stdout",
          "text": [
            "       col1      col2\n",
            "1  0.342115 -0.029019\n",
            "4  0.707815  1.270037\n",
            "6  0.523670 -0.350973\n",
            "2  0.039107 -0.436123\n",
            "3 -1.261539 -1.634493\n",
            "5 -0.765505 -0.112444\n",
            "9 -2.446475 -0.938600\n",
            "8 -2.431121  0.658065\n",
            "0  0.061608  0.734693\n",
            "7  0.256555 -0.727495\n"
          ]
        }
      ]
    }
  ]
}